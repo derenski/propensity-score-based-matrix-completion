{
 "cells": [
  {
   "cell_type": "code",
   "execution_count": 1,
   "metadata": {},
   "outputs": [
    {
     "name": "stderr",
     "output_type": "stream",
     "text": [
      "\n",
      "Attaching package: ‘dplyr’\n",
      "\n",
      "\n",
      "The following objects are masked from ‘package:stats’:\n",
      "\n",
      "    filter, lag\n",
      "\n",
      "\n",
      "The following objects are masked from ‘package:base’:\n",
      "\n",
      "    intersect, setdiff, setequal, union\n",
      "\n",
      "\n",
      "Loaded glmnet 3.0-2\n",
      "\n",
      "\n",
      "\n",
      "Attaching package: ‘reshape’\n",
      "\n",
      "\n",
      "The following object is masked from ‘package:Matrix’:\n",
      "\n",
      "    expand\n",
      "\n",
      "\n",
      "The following object is masked from ‘package:dplyr’:\n",
      "\n",
      "    rename\n",
      "\n",
      "\n",
      "\n",
      "Attaching package: ‘lubridate’\n",
      "\n",
      "\n",
      "The following object is masked from ‘package:reshape’:\n",
      "\n",
      "    stamp\n",
      "\n",
      "\n",
      "The following objects are masked from ‘package:LaplacesDemon’:\n",
      "\n",
      "    dst, interval\n",
      "\n",
      "\n",
      "The following objects are masked from ‘package:dplyr’:\n",
      "\n",
      "    intersect, setdiff, union\n",
      "\n",
      "\n",
      "The following objects are masked from ‘package:base’:\n",
      "\n",
      "    date, intersect, setdiff, union\n",
      "\n",
      "\n"
     ]
    }
   ],
   "source": [
    "library(foreign, quietly=T)\n",
    "library(dplyr, quietly=T)\n",
    "library(stringr, quietly=T\n",
    "       )\n",
    "library(foreach, quietly=T)\n",
    "library(doParallel, quietly=T)\n",
    "library(LaplacesDemon, quietly=T)\n",
    "library(glmnet, quietly=T)\n",
    "library(reshape, quietly=T)\n",
    "library(ggplot2, quietly=T)\n",
    "library(lubridate, quietly=T)\n",
    "library(abind, quietly=T)"
   ]
  },
  {
   "cell_type": "code",
   "execution_count": 2,
   "metadata": {},
   "outputs": [],
   "source": [
    "source('../causal_inference_methods_code_corrupted.R')"
   ]
  },
  {
   "cell_type": "code",
   "execution_count": 3,
   "metadata": {},
   "outputs": [],
   "source": [
    "variableExpander <- function(keysAndVariable, unitKey, timeKey){ ### Expands into unit/time format\n",
    "  \n",
    "  orderedData <- keysAndVariable %>% arrange(get(unitKey), get(timeKey))\n",
    "  \n",
    "  outcomeName <- names(keysAndVariable)[!(names(keysAndVariable) %in% c(unitKey, timeKey))]\n",
    "  \n",
    "  outcomeMatrixForm <- matrix(NA, nrow=length(unique(keysAndVariable[, unitKey])), \n",
    "                              ncol=length(unique(keysAndVariable[, timeKey])), byrow=T)\n",
    "  \n",
    "  rownames(outcomeMatrixForm) <- unique(keysAndVariable[, unitKey])\n",
    "  \n",
    "  colnames(outcomeMatrixForm) <- str_replace_all(unique(keysAndVariable[, timeKey])[order(unique(keysAndVariable[, timeKey]))], pattern=\"-\", replace=\"\")\n",
    "  \n",
    "  for (index in 1:length(keysAndVariable[, unitKey])){\n",
    "    \n",
    "    outcomeMatrixForm[keysAndVariable[, unitKey][index], str_replace_all(keysAndVariable[, timeKey][index], pattern=\"-\", replace=\"\")] <- keysAndVariable[, outcomeName][index]\n",
    "    \n",
    "  }\n",
    "  \n",
    "  return(outcomeMatrixForm)\n",
    "  \n",
    "}"
   ]
  },
  {
   "cell_type": "code",
   "execution_count": 4,
   "metadata": {},
   "outputs": [],
   "source": [
    "indexMatrixMaker <- function(dim1, dim2, numRowsMissing=1, maxColsMissing){\n",
    "    \n",
    "    missingRows <- sample(1:dim1, size=numRowsMissing)\n",
    "    \n",
    "    howManyColsMissing <- min(c(rpois(length(missingRows), lambda=.15*dim2),\n",
    "                              maxColsMissing))\n",
    "    \n",
    "    W <- matrix(0, nrow=dim1, ncol=dim2)\n",
    "    \n",
    "    for (num in 1:numRowsMissing){\n",
    "       \n",
    "        W[missingRows[num], (dim2-howManyColsMissing):dim2] <- 1\n",
    "    \n",
    "        \n",
    "    }\n",
    "    \n",
    "    return(W)\n",
    "    \n",
    "}"
   ]
  },
  {
   "cell_type": "code",
   "execution_count": 5,
   "metadata": {},
   "outputs": [],
   "source": [
    "smokingData <- read.csv(\"../../../California Smoking Data/smoking_data.csv\",\n",
    "                       row.names=1, stringsAsFactors=F)\n",
    "\n",
    "smokingData <- smokingData %>% filter(year >= 1975 & year < 1998)\n",
    "\n",
    "smokingData <- smokingData %>% \n",
    "mutate(lawPassed = as.numeric(state==\"California\" & year >= 1989))\n",
    "\n"
   ]
  },
  {
   "cell_type": "code",
   "execution_count": 6,
   "metadata": {},
   "outputs": [
    {
     "data": {
      "text/html": [
       "39"
      ],
      "text/latex": [
       "39"
      ],
      "text/markdown": [
       "39"
      ],
      "text/plain": [
       "[1] 39"
      ]
     },
     "metadata": {},
     "output_type": "display_data"
    }
   ],
   "source": [
    "length(table(smokingData$state))"
   ]
  },
  {
   "cell_type": "code",
   "execution_count": 7,
   "metadata": {},
   "outputs": [],
   "source": [
    "partyData <- read.csv(\"../../../California Smoking Data/political_party_data.csv\")\n",
    "\n",
    "partyData <- partyData %>% mutate(propStateHouseDemocrats=stateHouseDemocrats/stateHouseTotal)\n",
    "\n",
    "slimmedPartyData <- partyData %>% group_by(state, year) %>% summarize(stateHousePropDem=mean(stateHouseDemocrats/stateHouseTotal, na.rm=T),\n",
    "                                                                     stateGovernorDemocrat=mean(democratGovernor, na.rm=T))"
   ]
  },
  {
   "cell_type": "code",
   "execution_count": 8,
   "metadata": {},
   "outputs": [
    {
     "name": "stderr",
     "output_type": "stream",
     "text": [
      "Joining, by = c(\"state\", \"year\")\n",
      "\n",
      "Warning message:\n",
      "“Column `state` joining character vector and factor, coercing into character vector”\n"
     ]
    }
   ],
   "source": [
    "smokingData <- smokingData %>% dplyr::left_join(slimmedPartyData)"
   ]
  },
  {
   "cell_type": "code",
   "execution_count": 9,
   "metadata": {},
   "outputs": [],
   "source": [
    "smokingData$stateHousePropDem[is.na(smokingData$stateHousePropDem)] <- 0\n",
    "smokingData$stateGovernorDemocrat[is.na(smokingData$stateGovernorDemocrat)] <- 0"
   ]
  },
  {
   "cell_type": "code",
   "execution_count": 10,
   "metadata": {},
   "outputs": [],
   "source": [
    "popData <- read.delim(\"../../../California Smoking Data/Population_Data_Annual.txt\")\n",
    "\n",
    "meltedPopData <- reshape2::melt(popData, id.vars='DATE')\n",
    "\n",
    "names(meltedPopData) <- c(\"year\", \"abb\", \"population\")\n",
    "\n",
    "meltedPopData <- meltedPopData %>% mutate(year = year(ymd(year)), abb = str_replace(abb, \"POP$\", \"\"),\n",
    "                                          population=population*1000)"
   ]
  },
  {
   "cell_type": "code",
   "execution_count": 11,
   "metadata": {},
   "outputs": [],
   "source": [
    "nameAndAbbData <- cbind.data.frame(state.name, state.abb, state.area)\n",
    "names(nameAndAbbData) <- c(\"name\", \"abb\", \"area\")\n"
   ]
  },
  {
   "cell_type": "markdown",
   "metadata": {},
   "source": [
    "# Outcome and Treatment Variable"
   ]
  },
  {
   "cell_type": "code",
   "execution_count": 12,
   "metadata": {},
   "outputs": [],
   "source": [
    "cigSaleWide <- variableExpander(keysAndVariable=smokingData[c(\"state\", \"year\", \"cigsale\")]\n",
    "                                  , unitKey='state', timeKey=\"year\")\n",
    "\n",
    "lawPassedWide <- variableExpander(keysAndVariable=smokingData[c(\"state\", \"year\", \"lawPassed\")]\n",
    "                                  , unitKey='state', timeKey=\"year\")"
   ]
  },
  {
   "cell_type": "code",
   "execution_count": 13,
   "metadata": {},
   "outputs": [
    {
     "data": {
      "text/html": [
       "<style>\n",
       ".list-inline {list-style: none; margin:0; padding: 0}\n",
       ".list-inline>li {display: inline-block}\n",
       ".list-inline>li:not(:last-child)::after {content: \"\\00b7\"; padding: 0 .5ex}\n",
       "</style>\n",
       "<ol class=list-inline><li>'state'</li><li>'year'</li><li>'cigsale'</li><li>'lnincome'</li><li>'beer'</li><li>'age15to24'</li><li>'retprice'</li><li>'lawPassed'</li><li>'stateHousePropDem'</li><li>'stateGovernorDemocrat'</li></ol>\n"
      ],
      "text/latex": [
       "\\begin{enumerate*}\n",
       "\\item 'state'\n",
       "\\item 'year'\n",
       "\\item 'cigsale'\n",
       "\\item 'lnincome'\n",
       "\\item 'beer'\n",
       "\\item 'age15to24'\n",
       "\\item 'retprice'\n",
       "\\item 'lawPassed'\n",
       "\\item 'stateHousePropDem'\n",
       "\\item 'stateGovernorDemocrat'\n",
       "\\end{enumerate*}\n"
      ],
      "text/markdown": [
       "1. 'state'\n",
       "2. 'year'\n",
       "3. 'cigsale'\n",
       "4. 'lnincome'\n",
       "5. 'beer'\n",
       "6. 'age15to24'\n",
       "7. 'retprice'\n",
       "8. 'lawPassed'\n",
       "9. 'stateHousePropDem'\n",
       "10. 'stateGovernorDemocrat'\n",
       "\n",
       "\n"
      ],
      "text/plain": [
       " [1] \"state\"                 \"year\"                  \"cigsale\"              \n",
       " [4] \"lnincome\"              \"beer\"                  \"age15to24\"            \n",
       " [7] \"retprice\"              \"lawPassed\"             \"stateHousePropDem\"    \n",
       "[10] \"stateGovernorDemocrat\""
      ]
     },
     "metadata": {},
     "output_type": "display_data"
    }
   ],
   "source": [
    "names(smokingData)"
   ]
  },
  {
   "cell_type": "markdown",
   "metadata": {},
   "source": [
    "# Other Covariates"
   ]
  },
  {
   "cell_type": "code",
   "execution_count": 14,
   "metadata": {},
   "outputs": [],
   "source": [
    "### Can use: lnincome, retprice\n",
    "covandTreatmentIndic <- smokingData %>% dplyr::select(state, year, lnincome, \n",
    "                                                     retprice, lawPassed)\n",
    "\n",
    "#covandTreatmentIndic <- smokingData %>% dplyr::select(state, year, lnincome, stateHousePropDem, stateGovernorDemocrat,\n",
    "#                                                     retprice, lawPassed)"
   ]
  },
  {
   "cell_type": "code",
   "execution_count": 15,
   "metadata": {},
   "outputs": [],
   "source": [
    "mod <- glm(lawPassed~retprice+lnincome, data=covandTreatmentIndic , \n",
    "           family=binomial())\n",
    "\n",
    "#mod <- glm(lawPassed~retprice+lnincome+stateHousePropDem\n",
    "#           +stateGovernorDemocrat, data=covandTreatmentIndic , \n",
    "#           family=binomial())"
   ]
  },
  {
   "cell_type": "code",
   "execution_count": 16,
   "metadata": {},
   "outputs": [
    {
     "data": {
      "text/plain": [
       "\n",
       "Call:\n",
       "glm(formula = lawPassed ~ retprice + lnincome, family = binomial(), \n",
       "    data = covandTreatmentIndic)\n",
       "\n",
       "Deviance Residuals: \n",
       "    Min       1Q   Median       3Q      Max  \n",
       "-0.9348  -0.1179  -0.0344  -0.0128   3.2688  \n",
       "\n",
       "Coefficients:\n",
       "             Estimate Std. Error z value Pr(>|z|)  \n",
       "(Intercept) -48.08164   23.21262  -2.071   0.0383 *\n",
       "retprice      0.04222    0.01652   2.556   0.0106 *\n",
       "lnincome      3.68826    2.42824   1.519   0.1288  \n",
       "---\n",
       "Signif. codes:  0 ‘***’ 0.001 ‘**’ 0.01 ‘*’ 0.05 ‘.’ 0.1 ‘ ’ 1\n",
       "\n",
       "(Dispersion parameter for binomial family taken to be 1)\n",
       "\n",
       "    Null deviance: 100.742  on 896  degrees of freedom\n",
       "Residual deviance:  70.823  on 894  degrees of freedom\n",
       "AIC: 76.823\n",
       "\n",
       "Number of Fisher Scoring iterations: 9\n"
      ]
     },
     "metadata": {},
     "output_type": "display_data"
    }
   ],
   "source": [
    "summary(mod )"
   ]
  },
  {
   "cell_type": "code",
   "execution_count": 17,
   "metadata": {},
   "outputs": [],
   "source": [
    "covandTreatmentIndic$probPass <- mod$fitted.values\n",
    "\n",
    "probPassEst <-\n",
    "variableExpander(keysAndVariable=covandTreatmentIndic[c(\"state\", \"year\", \"probPass\")]\n",
    "                                  , unitKey='state', timeKey=\"year\")\n",
    " "
   ]
  },
  {
   "cell_type": "code",
   "execution_count": 18,
   "metadata": {},
   "outputs": [],
   "source": [
    "ourWeightMatrix <- propensity.score.to.weight(probPassEst, lawPassedWide)"
   ]
  },
  {
   "cell_type": "markdown",
   "metadata": {},
   "source": [
    "# Running the Model"
   ]
  },
  {
   "cell_type": "code",
   "execution_count": 19,
   "metadata": {},
   "outputs": [],
   "source": [
    "desired_clusters <- 30\n",
    "\n",
    "max_available_clusters <- detectCores()\n",
    "\n",
    "cl <- makeCluster(min(c(max_available_clusters, desired_clusters))-3)\n",
    "\n",
    "registerDoParallel(cl)"
   ]
  },
  {
   "cell_type": "code",
   "execution_count": 20,
   "metadata": {},
   "outputs": [],
   "source": [
    "completedSmokingInfo <- completion_with_rank_estimation_validate_mu(\n",
    "    Y=cigSaleWide, W=lawPassedWide,  \n",
    "    weight_matrix =ourWeightMatrix/sum(ourWeightMatrix),\n",
    "                                                           initial_rank=40,\n",
    "                                                           tolerance=1e-04, \n",
    "                                                           validation_max_iter=5000,\n",
    "                                                           min_iter=100,\n",
    "                                                           max_iter=10000,\n",
    "                                                           mu_grid=10^seq(-3,3, 1),\n",
    "                                                           K=5)"
   ]
  },
  {
   "cell_type": "code",
   "execution_count": 21,
   "metadata": {},
   "outputs": [],
   "source": [
    "untreatedPotentialOutcomeMatrix = completedSmokingInfo$L_hat"
   ]
  },
  {
   "cell_type": "code",
   "execution_count": 22,
   "metadata": {},
   "outputs": [],
   "source": [
    "smokingLawEffect = treat.estimator(Y=cigSaleWide, \n",
    "                                   L.hat=untreatedPotentialOutcomeMatrix,\n",
    "               W=lawPassedWide)"
   ]
  },
  {
   "cell_type": "code",
   "execution_count": 23,
   "metadata": {},
   "outputs": [],
   "source": [
    "\n",
    "boot_ests_r1Comp <- bootstrapCI(Y=cigSaleWide, W=lawPassedWide, \n",
    "                                method=completion_with_rank_estimation_validate_mu,\n",
    "    weightMatrix=ourWeightMatrix, bootstrap_samps=300,initial_rank=40,\n",
    "  tolerance=1e-04, \n",
    "  validation_max_iter=500,\n",
    "  min_iter=10,\n",
    "  max_iter=1000,\n",
    "  mu_grid=0,\n",
    "  K=5 )"
   ]
  },
  {
   "cell_type": "code",
   "execution_count": 24,
   "metadata": {},
   "outputs": [
    {
     "data": {
      "text/html": [
       "<table>\n",
       "<caption>A matrix: 2 × 9 of type dbl</caption>\n",
       "<tbody>\n",
       "\t<tr><th scope=row>2.5%</th><td>-32.33927</td><td>-42.39263</td><td>-50.39901</td><td>-54.82510</td><td>-60.03214</td><td>-70.24899</td><td>-78.31816</td><td>-81.78827</td><td>-89.62827</td></tr>\n",
       "\t<tr><th scope=row>97.5%</th><td>-18.40485</td><td>-23.97693</td><td>-38.65052</td><td>-41.22871</td><td>-47.82860</td><td>-58.57508</td><td>-64.38389</td><td>-65.60815</td><td>-65.96400</td></tr>\n",
       "</tbody>\n",
       "</table>\n"
      ],
      "text/latex": [
       "A matrix: 2 × 9 of type dbl\n",
       "\\begin{tabular}{r|lllllllll}\n",
       "\t2.5\\% & -32.33927 & -42.39263 & -50.39901 & -54.82510 & -60.03214 & -70.24899 & -78.31816 & -81.78827 & -89.62827\\\\\n",
       "\t97.5\\% & -18.40485 & -23.97693 & -38.65052 & -41.22871 & -47.82860 & -58.57508 & -64.38389 & -65.60815 & -65.96400\\\\\n",
       "\\end{tabular}\n"
      ],
      "text/markdown": [
       "\n",
       "A matrix: 2 × 9 of type dbl\n",
       "\n",
       "| 2.5% | -32.33927 | -42.39263 | -50.39901 | -54.82510 | -60.03214 | -70.24899 | -78.31816 | -81.78827 | -89.62827 |\n",
       "| 97.5% | -18.40485 | -23.97693 | -38.65052 | -41.22871 | -47.82860 | -58.57508 | -64.38389 | -65.60815 | -65.96400 |\n",
       "\n"
      ],
      "text/plain": [
       "      [,1]      [,2]      [,3]      [,4]      [,5]      [,6]      [,7]     \n",
       "2.5%  -32.33927 -42.39263 -50.39901 -54.82510 -60.03214 -70.24899 -78.31816\n",
       "97.5% -18.40485 -23.97693 -38.65052 -41.22871 -47.82860 -58.57508 -64.38389\n",
       "      [,8]      [,9]     \n",
       "2.5%  -81.78827 -89.62827\n",
       "97.5% -65.60815 -65.96400"
      ]
     },
     "metadata": {},
     "output_type": "display_data"
    }
   ],
   "source": [
    "Cis_r1Comp <- apply(boot_ests_r1Comp, MARGIN=2, FUN=bs_percentile_method ,.95)\n",
    "\n",
    "\n",
    "Cis_r1Comp"
   ]
  },
  {
   "cell_type": "code",
   "execution_count": 25,
   "metadata": {},
   "outputs": [],
   "source": [
    "weightedSoftImputeInfo <- weightedSoftImpute_validate_lambda(Y=cigSaleWide, W=lawPassedWide,  \n",
    "    weight_matrix =ourWeightMatrix, num_iter=1000, K=8, \n",
    "                                                             lambda_grid=seq(0, 2000, 100\n",
    "                                                                    ), tolerance=1e-03)\n",
    "\n",
    "smokingLawEffectWeightedSoftImpute <- treat.estimator(cigSaleWide, weightedSoftImputeInfo$L_hat, lawPassedWide)"
   ]
  },
  {
   "cell_type": "code",
   "execution_count": 26,
   "metadata": {},
   "outputs": [],
   "source": [
    "untreatedPotentialOutcomeMatrix = weightedSoftImputeInfo$L_hat\n",
    "longUntreatedPotentialOutcomes <- melt(untreatedPotentialOutcomeMatrix)\n",
    "names(longUntreatedPotentialOutcomes) <- c(\"state\", 'year', \"cigsale\")"
   ]
  },
  {
   "cell_type": "code",
   "execution_count": 27,
   "metadata": {},
   "outputs": [
    {
     "data": {
      "text/html": [
       "100"
      ],
      "text/latex": [
       "100"
      ],
      "text/markdown": [
       "100"
      ],
      "text/plain": [
       "[1] 100"
      ]
     },
     "metadata": {},
     "output_type": "display_data"
    }
   ],
   "source": [
    "weightedSoftImputeInfo$cv_lambda"
   ]
  },
  {
   "cell_type": "code",
   "execution_count": null,
   "metadata": {},
   "outputs": [],
   "source": [
    "#seq(0, 2000, 100)\n",
    "boot_ests_weightedSoftImpute <- bootstrapCI(Y=cigSaleWide, W=lawPassedWide, \n",
    "    weightMatrix=ourWeightMatrix, bootstrap_samps=300, \n",
    "    method=weightedSoftImpute_validate_lambda,num_iter=1000 ,\n",
    "    K=5,\n",
    "  lambda_grid=seq(0, 2000, 100),\n",
    "  tolerance=1e-03)\n",
    "\n",
    "\n"
   ]
  },
  {
   "cell_type": "code",
   "execution_count": null,
   "metadata": {},
   "outputs": [],
   "source": [
    "bootEstData <- cbind.data.frame(1989:1997, colMeans(boot_ests_weightedSoftImpute))\n",
    "colnames(bootEstData) <- c(\"Year\", \"Value\")"
   ]
  },
  {
   "cell_type": "code",
   "execution_count": null,
   "metadata": {},
   "outputs": [],
   "source": [
    "Cis_weightedSoftImpute <- apply(boot_ests_weightedSoftImpute, MARGIN=2, FUN=bs_percentile_method ,.95)\n",
    "\n",
    "\n",
    "names(Cis_weightedSoftImpute) <- 1989:1997\n",
    "\n",
    "\n",
    "ciExample <- cbind.data.frame(1989:1997, t(Cis_weightedSoftImpute))\n",
    "names(ciExample) <- c(\"Year\", \"Lower\", \"Upper\")\n",
    "                    \n",
    "ciExamplePlot <- ggplot(ciExample, aes(x=factor(Year), y = Upper, group=1)) +\n",
    "  geom_line(aes(y = Lower), linetype='dashed') + \n",
    "  geom_line(aes(y = Upper), linetype='dashed') + \n",
    "  geom_line(data=bootEstData, aes(x=factor(Year), y=Value), color='black', lwd=2)+\n",
    "  geom_ribbon(aes(ymin = Lower, ymax = Upper), fill = \"blue\", alpha = .5) + \n",
    "  theme_bw(base_size=20)+ xlab(\"Year\") + ylab(\"Difference in Cigarette Sales (per Capita)\") + \n",
    "  ggtitle(\"Estimated Effect of Proposition 99,\\nwith a 95% Bootstrapped Confidence Interval\")"
   ]
  },
  {
   "cell_type": "code",
   "execution_count": null,
   "metadata": {},
   "outputs": [],
   "source": [
    "ciExamplePlot"
   ]
  },
  {
   "cell_type": "code",
   "execution_count": null,
   "metadata": {},
   "outputs": [],
   "source": [
    "untreatedOutcomesForPlotting <- smokingData\n",
    "\n",
    "stateRegionDivision <- cbind.data.frame(state.name, state.region, state.division) \n",
    "names(stateRegionDivision) <- c(\"state\", \"Region\", \"Division\")\n",
    "\n",
    "untreatedOutcomesForPlotting <- untreatedOutcomesForPlotting %>% inner_join(stateRegionDivision)\n",
    "\n",
    "finalPlottingData <- untreatedOutcomesForPlotting %>% group_by(Division, year) %>% \n",
    "summarize(averageSalesPerCapita=mean(cigsale, na.rm=T))\n",
    "\n",
    "divisionComparisonPlot <- ggplot(finalPlottingData, aes(x=year, y=averageSalesPerCapita, color=Division))+\n",
    " geom_line(lwd=1.25) + theme_bw(base_size=20) + ylab(\"Average Sales (per Capita)\") + \n",
    "ggtitle(\"Average Cigarette sales, by Division\") + geom_vline(aes(xintercept=1989), lwd=1.25, color='blue')"
   ]
  },
  {
   "cell_type": "code",
   "execution_count": null,
   "metadata": {},
   "outputs": [],
   "source": [
    "divisionComparisonPlot"
   ]
  },
  {
   "cell_type": "markdown",
   "metadata": {},
   "source": [
    "# Predicting Untreated Units"
   ]
  },
  {
   "cell_type": "markdown",
   "metadata": {},
   "source": [
    "## Series of One Step Ahead Predictions\n"
   ]
  },
  {
   "cell_type": "code",
   "execution_count": null,
   "metadata": {},
   "outputs": [],
   "source": [
    "valYearStart = 1980\n",
    "\n",
    "relevantCigSaleWide<- cigSaleWide[, as.numeric(dimnames(cigSaleWide)[[2]]) %in% 1975:1988]\n",
    "\n",
    "validationData <- cigSaleWide[, as.numeric(dimnames(cigSaleWide)[[2]]) %in% valYearStart:1988]\n",
    "\n",
    "meltedValidationData <- melt(validationData)\n",
    "\n",
    "names(meltedValidationData) <- c(\"state\", \"year\", \"truth\")\n",
    "\n",
    "savedPredictions <- array(0, dim=c(dim(validationData), 4), dimnames=c(dimnames(validationData), list(c(\"MC-NNM\", \"weightedSoftImpute\", \"FACTOR\", \"ourMethod\"))))\n",
    "\n",
    "\n",
    "for (state in dimnames(relevantCigSaleWide)[[1]]){\n",
    "    ### Remember, this is not comparable to the SDID results because you had\n",
    "    ### to drop 1970-1974\n",
    "    \n",
    "    for (year in valYearStart:1988){\n",
    "        \n",
    "        cigSaleDataNow <- relevantCigSaleWide[, as.numeric(dimnames(relevantCigSaleWide)[[2]]) %in% 1975:year]\n",
    "        \n",
    "        theProbsEstNow <- probPassEst[, as.numeric(dimnames(probPassEst)[[2]]) %in% 1975:year]\n",
    "        \n",
    "        WThisStateAndYear <- array(0, dim=dim(cigSaleDataNow),\n",
    "                                  dimnames=dimnames(cigSaleDataNow))\n",
    "        \n",
    "        WThisStateAndYear[state, as.character(year)] <- 1\n",
    "        \n",
    "        probsThisTime <- WThisStateAndYear*(1-theProbsEstNow)+theProbsEstNow\n",
    "        \n",
    "        weightsThisTime <- propensity.score.to.weight(probsThisTime, WThisStateAndYear)\n",
    "        \n",
    "        mc_nnm_info <- matrix_completion_causal(Y=cigSaleDataNow, W=WThisStateAndYear, num_iter=1000, K=4, \n",
    "                                        lambda_grid=c(10^seq(-4,2,1), seq(2,5,1)),\n",
    "                                        tolerance=1e-04)\n",
    "        \n",
    "        weightedSoftImputeInfo <- weightedSoftImpute_validate_lambda(Y=cigSaleDataNow, W=WThisStateAndYear, \n",
    "                                                                     weight_matrix=weightsThisTime, num_iter=1000, K=5, \n",
    "                                                             lambda_grid=seq(0, 2000, 100), tolerance=1e-03)\n",
    "        \n",
    "        L_completionFactorModel <- completion_factor_model(Y=cigSaleDataNow, W=WThisStateAndYear, propScoreMat = probsThisTime,\n",
    "                                                   numFactors=rankMatrix(mc_nnm_info$L_hat)[1])\n",
    "        \n",
    "        completedSmokingInfo <- completion_with_rank_estimation_validate_mu(\n",
    "                                  Y=cigSaleDataNow, W=WThisStateAndYear , weight_matrix=weightsThisTime,\n",
    "                                  initial_rank=40,\n",
    "                                  tolerance=1e-04, \n",
    "                                  validation_max_iter=5000,\n",
    "                                  min_iter=100,\n",
    "                                  max_iter=10000,\n",
    "                                  mu_grid=0,\n",
    "                                  K=5)\n",
    "        \n",
    "        dimnames(mc_nnm_info$L_hat) <- dimnames(completedSmokingInfo$L_hat)\n",
    "        dimnames(weightedSoftImputeInfo$L_hat) <- dimnames(completedSmokingInfo$L_hat)\n",
    "        dimnames(L_completionFactorModel) <- dimnames(completedSmokingInfo$L_hat)\n",
    "        \n",
    "        savedPredictions[state, as.character(year),] <- c(mc_nnm_info$L_hat[state, as.character(year)], weightedSoftImputeInfo$L_hat[state, as.character(year)], \n",
    "                                                          L_completionFactorModel[state, as.character(year)], completedSmokingInfo$L_hat[state, as.character(year)])\n",
    "        \n",
    "    }\n",
    "    \n",
    "    \n",
    "}\n"
   ]
  },
  {
   "cell_type": "code",
   "execution_count": null,
   "metadata": {},
   "outputs": [],
   "source": [
    "predictionDataFrame <- melt(savedPredictions)\n",
    "names(predictionDataFrame) <- c(\"state\", \"year\", \"Method\",\"prediction\")\n",
    "predictionDataFrame <- predictionDataFrame %>% inner_join(meltedValidationData)"
   ]
  },
  {
   "cell_type": "code",
   "execution_count": null,
   "metadata": {},
   "outputs": [],
   "source": [
    "unique(predictionDataFrame$state)"
   ]
  },
  {
   "cell_type": "code",
   "execution_count": null,
   "metadata": {},
   "outputs": [],
   "source": [
    "### Look at: Minnesota, Georgia, California\n",
    "ohioCigSales <- ggplot(predictionDataFrame %>% filter(state==\"Ohio\"), aes(x=year, y=prediction, col=Method)) + \n",
    "geom_line(lwd=1.25) + geom_line(aes(x=year, y=truth), color='black', lwd=1.25) + theme_bw(base_size=20) + xlab(\"Year\") + \n",
    "ylab(\"Predicted Sales (Cigarettes per Capita)\") + \n",
    "ggtitle(\"One Step Ahead Predictions,\\n for Ohio\")\n",
    "\n",
    "californiaCigSales <- ggplot(predictionDataFrame %>% filter(state==\"California\"), aes(x=year, y=prediction, col=Method)) + \n",
    "geom_line(lwd=1.25) + geom_line(aes(x=year, y=truth), color='black', lwd=1.25) + theme_bw(base_size=20) +\n",
    "ylab(\"Predicted Sales (Cigarettes per Capita)\") + xlab(\"Year\") + \n",
    "ggtitle(\"One Step Ahead Predictions,\\n for California\")"
   ]
  },
  {
   "cell_type": "code",
   "execution_count": null,
   "metadata": {},
   "outputs": [],
   "source": [
    "library(gridExtra)\n",
    "\n",
    "cigSaleExampleGrid <- grid.arrange(ohioCigSales+ theme(legend.position = \"none\"), californiaCigSales + \n",
    "                                   ylab(\"\")+ theme(legend.position = \"none\"), ncol=2)"
   ]
  },
  {
   "cell_type": "code",
   "execution_count": null,
   "metadata": {},
   "outputs": [],
   "source": [
    "rmseByStateData <- predictionDataFrame %>% group_by(state, Method) %>% summarize(rmse = sqrt(mean((prediction-truth)^2)))\n",
    "\n",
    "ggplot(rmseByStateData, aes(x=Method, y=rmse, fill=Method)) + geom_boxplot() + theme_bw(base_size=20)\n"
   ]
  },
  {
   "cell_type": "code",
   "execution_count": null,
   "metadata": {},
   "outputs": [],
   "source": [
    "oneStepAheadMSETable <- predictionDataFrame %>% group_by( Method) %>% \n",
    " summarize(rmse = round(sqrt(mean((prediction-truth)^2)), 3))\n",
    "names(oneStepAheadMSETable) <- c(\"Method\", \"RMSE\")\n",
    "oneStepAheadMSETable$Method <- factor(oneStepAheadMSETable$Method, \n",
    "    levels=as.character(oneStepAheadMSETable$Method)[c(2,4,1,3)])\n",
    "oneStepAheadMSETable <- oneStepAheadMSETable[order(oneStepAheadMSETable$Method), ]\n",
    "oneStepAheadMSETableLatexed <- knitr::kable(oneStepAheadMSETable, \"latex\")"
   ]
  },
  {
   "cell_type": "code",
   "execution_count": null,
   "metadata": {},
   "outputs": [],
   "source": [
    "\n",
    "oneStepAheadMSETable\n"
   ]
  },
  {
   "cell_type": "code",
   "execution_count": null,
   "metadata": {},
   "outputs": [],
   "source": [
    "#rmseByStateData  %>% group_by(state) %>% summarize(bestMethod = method[which.min(rmse)], min(rmse))\n",
    "# Alabama, Ohio good ; California, \n",
    "#ggplot(predictionDataFrame %>% filter(state==\"California\"), aes(x=year, y=prediction, col=method)) + geom_line() +\n",
    "#geom_line(aes(x=year, y=truth), color='black', lwd=2) + theme_bw(base_size=20)"
   ]
  },
  {
   "cell_type": "markdown",
   "metadata": {},
   "source": [
    "### N Step Ahead Prediction"
   ]
  },
  {
   "cell_type": "code",
   "execution_count": null,
   "metadata": {},
   "outputs": [],
   "source": [
    "valYearStart = 1985\n",
    "\n",
    "relevantCigSaleWide<- cigSaleWide[, as.numeric(dimnames(cigSaleWide)[[2]]) %in% 1975:1988]\n",
    "\n",
    "trainingData <- cigSaleWide[, as.numeric(dimnames(cigSaleWide)[[2]]) %in% 1975:(valYearStart-1)]\n",
    "\n",
    "validationData <- cigSaleWide[, as.numeric(dimnames(cigSaleWide)[[2]]) %in% valYearStart:1988]\n",
    "\n",
    "meltedValidationData <- melt(validationData)\n",
    "\n",
    "names(meltedValidationData) <- c(\"state\", \"year\", \"truth\")\n",
    "\n",
    "savedPredictions <- array(0, dim=c(dim(validationData), 4), dimnames=c(dimnames(validationData), \n",
    "                list(c(\"MC-NNM\", \"weightedSoftImpute\", \"FACTOR\", \"ourMethod\"))))\n",
    "\n",
    "theProbsEstNow <- probPassEst[, as.numeric(dimnames(probPassEst)[[2]]) %in% 1975:1988]\n",
    "\n",
    "for (state in dimnames(relevantCigSaleWide)[[1]]){\n",
    "    ### Remember, this is not comparable to the SDID results because you had\n",
    "    ### to drop 1970-1974\n",
    "        \n",
    "        WThisStateAndYear <- array(0, dim=dim(relevantCigSaleWide),\n",
    "                                  dimnames=dimnames(relevantCigSaleWide))\n",
    "        \n",
    "        WThisStateAndYear[state, dimnames(WThisStateAndYear)[[2]] %in% valYearStart:1988] <- 1\n",
    "    \n",
    "        neededParser <- dimnames(WThisStateAndYear)[[2]] %in% valYearStart:1988\n",
    "        \n",
    "        probsThisTime <- WThisStateAndYear*(1-theProbsEstNow)+theProbsEstNow\n",
    "        \n",
    "        weightsThisTime <- propensity.score.to.weight(probsThisTime, WThisStateAndYear)\n",
    "        \n",
    "        mc_nnm_info <- matrix_completion_causal(Y=relevantCigSaleWide, W=WThisStateAndYear, num_iter=1000, K=4, \n",
    "                                        lambda_grid=c(10^seq(-4,2,1), seq(2,5,1)),\n",
    "                                        tolerance=1e-04)\n",
    "        \n",
    "        weightedSoftImputeInfo <- weightedSoftImpute_validate_lambda(Y=relevantCigSaleWide, W=WThisStateAndYear, weight_matrix=weightsThisTime, num_iter=1000, K=5, \n",
    "                                                             lambda_grid=seq(0, 2000, 10), tolerance=1e-03)\n",
    "        \n",
    "        L_completionFactorModel <- completion_factor_model(Y=relevantCigSaleWide, W=WThisStateAndYear, propScoreMat = probsThisTime,\n",
    "                                                   numFactors=rankMatrix(mc_nnm_info$L_hat)[1])\n",
    "        \n",
    "        completedSmokingInfo <- completion_with_rank_estimation_validate_mu(\n",
    "                                  Y=relevantCigSaleWide, W=WThisStateAndYear , weight_matrix=weightsThisTime,\n",
    "                                  initial_rank=40,\n",
    "                                  tolerance=1e-04, \n",
    "                                  validation_max_iter=5000,\n",
    "                                  min_iter=100,\n",
    "                                  max_iter=10000,\n",
    "                                  mu_grid=0,\n",
    "                                  K=5)\n",
    "        \n",
    "        dimnames(mc_nnm_info$L_hat) <- dimnames(completedSmokingInfo$L_hat)\n",
    "        dimnames(weightedSoftImputeInfo$L_hat) <- dimnames(completedSmokingInfo$L_hat)\n",
    "        dimnames(L_completionFactorModel) <- dimnames(completedSmokingInfo$L_hat)\n",
    "        \n",
    "        savedPredictions[state, ,] <- rbind(mc_nnm_info$L_hat[state, neededParser], weightedSoftImputeInfo$L_hat[state, neededParser], \n",
    "                                                          L_completionFactorModel[state, neededParser], completedSmokingInfo$L_hat[state, neededParser])\n",
    "        \n",
    "    \n",
    "    \n",
    "    \n",
    "}"
   ]
  },
  {
   "cell_type": "code",
   "execution_count": null,
   "metadata": {},
   "outputs": [],
   "source": [
    "predictionDataFrame <- melt(savedPredictions)\n",
    "names(predictionDataFrame) <- c(\"state\", \"year\", \"Method\",\"prediction\")\n",
    "predictionDataFrame <- predictionDataFrame %>% inner_join(meltedValidationData)"
   ]
  },
  {
   "cell_type": "code",
   "execution_count": null,
   "metadata": {},
   "outputs": [],
   "source": [
    "NStepAheadMSETable <- predictionDataFrame %>% group_by( Method) %>% \n",
    " summarize(rmse = sqrt(mean((prediction-truth)^2)))\n",
    "names(NStepAheadMSETable) <- c(\"Method\", \"RMSE\")\n",
    "NStepAheadMSETable$Method <- factor(NStepAheadMSETable$Method, \n",
    "    levels=as.character(NStepAheadMSETable$Method)[c(2,4,1,3)])\n",
    "NStepAheadMSETable <- NStepAheadMSETable[order(NStepAheadMSETable$Method), ]\n",
    "NStepAheadMSETableLatexed <- knitr::kable(NStepAheadMSETable, \"latex\")"
   ]
  },
  {
   "cell_type": "code",
   "execution_count": null,
   "metadata": {},
   "outputs": [],
   "source": [
    "\n",
    "\n",
    "NStepAheadMSETable"
   ]
  },
  {
   "cell_type": "code",
   "execution_count": null,
   "metadata": {},
   "outputs": [],
   "source": [
    "rmseByStateData <- predictionDataFrame %>% group_by(state, Method) %>% summarize(rmse = sqrt(mean((prediction-truth)^2)))\n",
    "\n",
    "ggplot(rmseByStateData, aes(x=Method, y=rmse, fill=Method)) + geom_boxplot() + theme_bw(base_size=20)"
   ]
  },
  {
   "cell_type": "code",
   "execution_count": null,
   "metadata": {},
   "outputs": [],
   "source": [
    "nStepsAheadData <- rmseByStateData  %>% group_by(state) %>% \n",
    "summarize(bestMethod = Method[which.min(rmse)], min(rmse))"
   ]
  },
  {
   "cell_type": "markdown",
   "metadata": {},
   "source": [
    "## Random Missingness"
   ]
  },
  {
   "cell_type": "code",
   "execution_count": null,
   "metadata": {},
   "outputs": [],
   "source": [
    "set.seed(48273)\n",
    "\n",
    "missingUntreated <- matrix(0, nrow=dim(lawPassedWide)[1], \n",
    "                          ncol=dim(lawPassedWide)[2])\n",
    "\n",
    "missingUntreated[\n",
    "    sample(which(lawPassedWide == 0), .2*prod(dim(lawPassedWide)) )] <- 1"
   ]
  },
  {
   "cell_type": "code",
   "execution_count": null,
   "metadata": {},
   "outputs": [],
   "source": [
    "newW <- lawPassedWide+missingUntreated*(1-lawPassedWide)"
   ]
  },
  {
   "cell_type": "code",
   "execution_count": null,
   "metadata": {},
   "outputs": [],
   "source": [
    "adjustedProbs <- .2*(1-probPassEst)+probPassEst"
   ]
  },
  {
   "cell_type": "code",
   "execution_count": null,
   "metadata": {},
   "outputs": [],
   "source": [
    "adjustedWeightMatrix = propensity.score.to.weight(adjustedProbs, W=newW)"
   ]
  },
  {
   "cell_type": "markdown",
   "metadata": {},
   "source": [
    "### MC-NNM"
   ]
  },
  {
   "cell_type": "code",
   "execution_count": null,
   "metadata": {},
   "outputs": [],
   "source": [
    "mc_nnm_info <- matrix_completion_causal(Y=cigSaleWide, W=newW, num_iter=1000, K=4, \n",
    "                                        lambda_grid=c(10^seq(-4,2,1), seq(2,5,1)),\n",
    "                                        tolerance=1e-04)\n",
    "\n",
    "L_mc_nnm <- mc_nnm_info$L_hat"
   ]
  },
  {
   "cell_type": "code",
   "execution_count": null,
   "metadata": {},
   "outputs": [],
   "source": [
    "missings <- as.numeric((cigSaleWide-mc_nnm_info$L_hat)*missingUntreated)\n",
    "\n",
    "missings <- missings[missings != 0]\n",
    "\n",
    "rmse_MCNNM <- sqrt(mean(missings^2))"
   ]
  },
  {
   "cell_type": "markdown",
   "metadata": {},
   "source": [
    "### Weighted MC-NNM"
   ]
  },
  {
   "cell_type": "code",
   "execution_count": null,
   "metadata": {},
   "outputs": [],
   "source": [
    "weightedSoftImputeInfo <- weightedSoftImpute_validate_lambda(Y=cigSaleWide, W=newW, weight_matrix=adjustedWeightMatrix, num_iter=1000, K=5, \n",
    "                                                             lambda_grid=seq(0, 2000, 100), tolerance=1e-03)"
   ]
  },
  {
   "cell_type": "code",
   "execution_count": null,
   "metadata": {},
   "outputs": [],
   "source": [
    "missings <- as.numeric((cigSaleWide-weightedSoftImputeInfo$L_hat)*missingUntreated)\n",
    "\n",
    "missings <- missings[missings != 0]\n",
    "\n",
    "rmse_weightedSoftImpute <- sqrt(mean(missings^2))"
   ]
  },
  {
   "cell_type": "markdown",
   "metadata": {},
   "source": [
    "### Factor Model"
   ]
  },
  {
   "cell_type": "code",
   "execution_count": null,
   "metadata": {},
   "outputs": [],
   "source": [
    "L_completionFactorModel <- completion_factor_model(Y=cigSaleWide, W=newW, propScoreMat = adjustedProbs,\n",
    "                                                   numFactors=rankMatrix(mc_nnm_info$L_hat)[1])"
   ]
  },
  {
   "cell_type": "code",
   "execution_count": null,
   "metadata": {},
   "outputs": [],
   "source": [
    "missings <- as.numeric((cigSaleWide-L_completionFactorModel)*missingUntreated)\n",
    "\n",
    "missings <- missings[missings != 0]\n",
    "\n",
    "rmse_FACTOR <- sqrt(mean(missings^2))"
   ]
  },
  {
   "cell_type": "markdown",
   "metadata": {},
   "source": [
    "### Our Method"
   ]
  },
  {
   "cell_type": "code",
   "execution_count": null,
   "metadata": {},
   "outputs": [],
   "source": [
    "completedSmokingInfo <- completion_with_rank_estimation_validate_mu(\n",
    "    Y=cigSaleWide, W=newW, weight_matrix=adjustedWeightMatrix,\n",
    "                            initial_rank=40,\n",
    "                            tolerance=1e-04, \n",
    "                            validation_max_iter=5000,\n",
    "                            min_iter=100,\n",
    "                            max_iter=10000,\n",
    "                            mu_grid=10^seq(-3,3, 1),\n",
    "                            K=5)"
   ]
  },
  {
   "cell_type": "code",
   "execution_count": null,
   "metadata": {},
   "outputs": [],
   "source": [
    "missings <- as.numeric((cigSaleWide-completedSmokingInfo$L_hat)*missingUntreated)\n",
    "\n",
    "missings <- missings[missings != 0]\n",
    "\n",
    "rmse_ourMethod <- sqrt(mean(missings^2))"
   ]
  },
  {
   "cell_type": "code",
   "execution_count": null,
   "metadata": {},
   "outputs": [],
   "source": [
    "randomMissingResults <- array(cbind(c(\"MC-NNM\", \"Weighted softImpute\", \"FACTOR\", \"Our Method\"),\n",
    "    round(c(rmse_MCNNM, rmse_weightedSoftImpute, rmse_FACTOR, rmse_ourMethod), 3)),\n",
    "                             dim=c(4,2))\n",
    "dimnames(randomMissingResults)[[2]] <- c(\"Method\", \"RMSE\")"
   ]
  },
  {
   "cell_type": "code",
   "execution_count": null,
   "metadata": {},
   "outputs": [],
   "source": [
    "randomMissingResults\n",
    "randomMissingResultsLatex <- knitr::kable(randomMissingResults, \"latex\")"
   ]
  },
  {
   "cell_type": "code",
   "execution_count": null,
   "metadata": {},
   "outputs": [],
   "source": [
    "outputDir <- \"./smoking_data_plots_and_tables\"\n",
    "if (!dir.exists(outputDir)){\n",
    "    \n",
    "    dir.create(outputDir)\n",
    "    \n",
    "}\n",
    "\n",
    "\n",
    "\n"
   ]
  },
  {
   "cell_type": "code",
   "execution_count": null,
   "metadata": {},
   "outputs": [],
   "source": [
    "makeFilename <- function(directory, fileName){\n",
    "    \n",
    "    paste(directory, fileName, sep='/')\n",
    "}\n",
    "\n",
    "ggsave(makeFilename(outputDir, \"division_comparison.pdf\"), divisionComparisonPlot, width=11, height=8.5)\n",
    "ggsave(makeFilename(outputDir, \"cig_sale_one_step_ohio.pdf\"), ohioCigSales, width=11, height=8.5)\n",
    "ggsave(makeFilename(outputDir, \"cig_sale_one_step_california.pdf\"), californiaCigSales, width=11, height=8.5)\n",
    "ggsave(makeFilename(outputDir, \"combined_cig_sale_examples.pdf\"), cigSaleExampleGrid, width=11, height=8.5)\n",
    "ggsave(makeFilename(outputDir, \"ci_example.pdf\"), ciExamplePlot, width=11, height=8.5)\n",
    "\n",
    "\n",
    "fileConn<-file(makeFilename(outputDir, \"one_step_ahead_assessment.txt\"))\n",
    "writeLines(oneStepAheadMSETableLatexed, fileConn)\n",
    "close(fileConn)\n",
    "\n",
    "fileConn<-file(makeFilename(outputDir, \"random_missing_assessment.txt\"))\n",
    "writeLines(randomMissingResultsLatex, fileConn)\n",
    "close(fileConn)\n"
   ]
  },
  {
   "cell_type": "code",
   "execution_count": null,
   "metadata": {},
   "outputs": [],
   "source": []
  },
  {
   "cell_type": "code",
   "execution_count": null,
   "metadata": {},
   "outputs": [],
   "source": [
    "# stopCluster(cl)"
   ]
  },
  {
   "cell_type": "code",
   "execution_count": null,
   "metadata": {},
   "outputs": [],
   "source": []
  }
 ],
 "metadata": {
  "kernelspec": {
   "display_name": "R",
   "language": "R",
   "name": "ir"
  },
  "language_info": {
   "codemirror_mode": "r",
   "file_extension": ".r",
   "mimetype": "text/x-r-source",
   "name": "R",
   "pygments_lexer": "r",
   "version": "3.6.3"
  }
 },
 "nbformat": 4,
 "nbformat_minor": 4
}
