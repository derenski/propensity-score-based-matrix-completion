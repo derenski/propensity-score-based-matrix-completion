{
 "cells": [
  {
   "cell_type": "code",
   "execution_count": 1,
   "metadata": {},
   "outputs": [
    {
     "name": "stderr",
     "output_type": "stream",
     "text": [
      "\n",
      "Attaching package: ‘dplyr’\n",
      "\n",
      "\n",
      "The following objects are masked from ‘package:stats’:\n",
      "\n",
      "    filter, lag\n",
      "\n",
      "\n",
      "The following objects are masked from ‘package:base’:\n",
      "\n",
      "    intersect, setdiff, setequal, union\n",
      "\n",
      "\n",
      "Loading required package: iterators\n",
      "\n",
      "Loading required package: parallel\n",
      "\n",
      "Loading required package: Matrix\n",
      "\n",
      "Loaded glmnet 3.0-2\n",
      "\n",
      "\n",
      "\n",
      "Attaching package: ‘MASS’\n",
      "\n",
      "\n",
      "The following object is masked from ‘package:dplyr’:\n",
      "\n",
      "    select\n",
      "\n",
      "\n"
     ]
    }
   ],
   "source": [
    "library(foreign)\n",
    "library(dplyr)\n",
    "library(stringr\n",
    "       )\n",
    "library(foreach)\n",
    "library(doParallel)\n",
    "library(LaplacesDemon)\n",
    "library(glmnet)\n",
    "library(MASS)"
   ]
  },
  {
   "cell_type": "code",
   "execution_count": 2,
   "metadata": {},
   "outputs": [],
   "source": [
    "desired_clusters <- 30\n",
    "\n",
    "max_available_clusters <- detectCores()\n",
    "\n",
    "cl <- makeCluster(min(c(max_available_clusters, desired_clusters))-3)\n",
    "\n",
    "registerDoParallel(cl)"
   ]
  },
  {
   "cell_type": "code",
   "execution_count": 3,
   "metadata": {},
   "outputs": [],
   "source": [
    "source('../causal_inference_methods_code_corrupted.R')"
   ]
  },
  {
   "cell_type": "code",
   "execution_count": 4,
   "metadata": {},
   "outputs": [],
   "source": [
    "variableExpander <- function(keysAndVariable, unitKey, timeKey){ ### Expands into unit/time format\n",
    "  \n",
    "  orderedData <- keysAndVariable %>% arrange(get(unitKey), get(timeKey))\n",
    "  \n",
    "  outcomeName <- names(keysAndVariable)[!(names(keysAndVariable) %in% c(unitKey, timeKey))]\n",
    "  \n",
    "  outcomeMatrixForm <- matrix(NA, nrow=length(unique(keysAndVariable[, unitKey])), \n",
    "                              ncol=length(unique(keysAndVariable[, timeKey])), byrow=T)\n",
    "  \n",
    "  rownames(outcomeMatrixForm) <- unique(keysAndVariable[, unitKey])\n",
    "  \n",
    "  colnames(outcomeMatrixForm) <- str_replace_all(unique(keysAndVariable[, timeKey])[order(unique(keysAndVariable[, timeKey]))], pattern=\"-\", replace=\"\")\n",
    "  \n",
    "  for (index in 1:length(keysAndVariable[, unitKey])){\n",
    "    \n",
    "    outcomeMatrixForm[keysAndVariable[, unitKey][index], str_replace_all(keysAndVariable[, timeKey][index], pattern=\"-\", replace=\"\")] <- keysAndVariable[, outcomeName][index]\n",
    "    \n",
    "  }\n",
    "  \n",
    "  return(outcomeMatrixForm)\n",
    "  \n",
    "}"
   ]
  },
  {
   "cell_type": "code",
   "execution_count": 5,
   "metadata": {},
   "outputs": [
    {
     "data": {
      "text/html": [],
      "text/latex": [],
      "text/markdown": [],
      "text/plain": [
       "character(0)"
      ]
     },
     "metadata": {},
     "output_type": "display_data"
    }
   ],
   "source": [
    "list.files(\"./Real Data Analyses\")"
   ]
  },
  {
   "cell_type": "code",
   "execution_count": 6,
   "metadata": {},
   "outputs": [],
   "source": [
    "countryData <- foreign::read.dta(\"repgermany.dta\")\n",
    "countryData <- countryData %>% mutate(reunified = as.numeric(country==\"West Germany\" & year >= 1990))\n",
    "\n",
    "countryData  <- countryData %>% filter(year < 1998 & year > 1960)"
   ]
  },
  {
   "cell_type": "code",
   "execution_count": 7,
   "metadata": {},
   "outputs": [
    {
     "data": {
      "text/html": [
       "<style>\n",
       ".list-inline {list-style: none; margin:0; padding: 0}\n",
       ".list-inline>li {display: inline-block}\n",
       ".list-inline>li:not(:last-child)::after {content: \"\\00b7\"; padding: 0 .5ex}\n",
       "</style>\n",
       "<ol class=list-inline><li>'index'</li><li>'country'</li><li>'year'</li><li>'gdp'</li><li>'infrate'</li><li>'trade'</li><li>'schooling'</li><li>'invest60'</li><li>'invest70'</li><li>'invest80'</li><li>'industry'</li><li>'reunified'</li></ol>\n"
      ],
      "text/latex": [
       "\\begin{enumerate*}\n",
       "\\item 'index'\n",
       "\\item 'country'\n",
       "\\item 'year'\n",
       "\\item 'gdp'\n",
       "\\item 'infrate'\n",
       "\\item 'trade'\n",
       "\\item 'schooling'\n",
       "\\item 'invest60'\n",
       "\\item 'invest70'\n",
       "\\item 'invest80'\n",
       "\\item 'industry'\n",
       "\\item 'reunified'\n",
       "\\end{enumerate*}\n"
      ],
      "text/markdown": [
       "1. 'index'\n",
       "2. 'country'\n",
       "3. 'year'\n",
       "4. 'gdp'\n",
       "5. 'infrate'\n",
       "6. 'trade'\n",
       "7. 'schooling'\n",
       "8. 'invest60'\n",
       "9. 'invest70'\n",
       "10. 'invest80'\n",
       "11. 'industry'\n",
       "12. 'reunified'\n",
       "\n",
       "\n"
      ],
      "text/plain": [
       " [1] \"index\"     \"country\"   \"year\"      \"gdp\"       \"infrate\"   \"trade\"    \n",
       " [7] \"schooling\" \"invest60\"  \"invest70\"  \"invest80\"  \"industry\"  \"reunified\""
      ]
     },
     "metadata": {},
     "output_type": "display_data"
    }
   ],
   "source": [
    "names(countryData)"
   ]
  },
  {
   "cell_type": "markdown",
   "metadata": {},
   "source": [
    "# Covariate Cleaning"
   ]
  },
  {
   "cell_type": "code",
   "execution_count": 8,
   "metadata": {},
   "outputs": [],
   "source": [
    "inflationData <- countryData %>% dplyr::select(country, year, infrate)\n",
    "inflationDataWideForm <- variableExpander(inflationData, \"country\", \"year\")\n",
    "\n",
    "tradeData <- countryData %>% dplyr::select(country, year, trade)\n",
    "tradeDataWideForm <- variableExpander(tradeData, \"country\", \"year\")\n",
    "\n",
    "industryData <- countryData %>% dplyr::select(country, year, industry)\n",
    "industryDataWideForm <- variableExpander(industryData, \"country\", \"year\")"
   ]
  },
  {
   "cell_type": "markdown",
   "metadata": {},
   "source": [
    "# Control for Trade and Inflation.\n"
   ]
  },
  {
   "cell_type": "code",
   "execution_count": 9,
   "metadata": {},
   "outputs": [],
   "source": [
    "WTrade <- variableExpander(countryData %>% \n",
    "                           dplyr::select(country, year, trade) %>% \n",
    "                           mutate(noTrade=as.numeric(is.na(trade)))  %>% dplyr::select(country, year, noTrade)\n",
    "                        , \"country\", \"year\")\n"
   ]
  },
  {
   "cell_type": "code",
   "execution_count": 10,
   "metadata": {},
   "outputs": [],
   "source": [
    "completedTradeInfo <- completion_with_rank_estimation_validate_mu(Y=tradeDataWideForm, W=WTrade,  \n",
    "                                                           weight_matrix = NULL,\n",
    "                                                           initial_rank=40,\n",
    "                                                           tolerance=1e-04, \n",
    "                                                           validation_max_iter=5000,\n",
    "                                                           min_iter=100,\n",
    "                                                           max_iter=10000,\n",
    "                                                           mu_grid=10^seq(-3,3, 1),\n",
    "                                                           K=5)\n",
    "\n"
   ]
  },
  {
   "cell_type": "code",
   "execution_count": 11,
   "metadata": {},
   "outputs": [],
   "source": [
    "inflationDataWithReun <- countryData %>% dplyr::select(country, year, infrate, reunified)"
   ]
  },
  {
   "cell_type": "code",
   "execution_count": 12,
   "metadata": {},
   "outputs": [
    {
     "name": "stderr",
     "output_type": "stream",
     "text": [
      "Joining, by = c(\"country\", \"year\")\n",
      "\n",
      "Warning message:\n",
      "“Column `country` joining factor and character vector, coercing into character vector”\n"
     ]
    }
   ],
   "source": [
    "completedTradeData <- reshape::melt(completedTradeInfo$L_hat)\n",
    "\n",
    "names(completedTradeData) <- c(\"country\", \"year\", \"trade\")\n",
    "\n",
    "allPredData <- completedTradeData %>% inner_join(inflationDataWithReun )"
   ]
  },
  {
   "cell_type": "code",
   "execution_count": 13,
   "metadata": {},
   "outputs": [],
   "source": [
    "allPredDataConstantVars <- (allPredData %>% \n",
    "                            group_by(country) %>% summarize(meanTrade= mean(trade),\n",
    "                                                           meanInf=mean(infrate), \n",
    "                                                           reunifiedDuration=sum(reunified)))\n",
    "\n",
    "mod <- glm(reunified~infrate+trade, data=allPredData , \n",
    "           family=poisson())"
   ]
  },
  {
   "cell_type": "code",
   "execution_count": 14,
   "metadata": {},
   "outputs": [],
   "source": [
    "allPredData$probReunify <- mod$fitted.values"
   ]
  },
  {
   "cell_type": "code",
   "execution_count": 15,
   "metadata": {},
   "outputs": [],
   "source": [
    "gdpData <- countryData %>% dplyr::select(country, year, gdp)\n",
    "reunifiedData <- countryData %>% dplyr::select(country, year, reunified)"
   ]
  },
  {
   "cell_type": "code",
   "execution_count": 16,
   "metadata": {},
   "outputs": [],
   "source": [
    "gdpDataWideForm <- variableExpander(gdpData, \"country\", \"year\")\n",
    "W <- variableExpander(reunifiedData, \"country\", \"year\")"
   ]
  },
  {
   "cell_type": "code",
   "execution_count": 17,
   "metadata": {},
   "outputs": [],
   "source": [
    "propScores <- variableExpander(allPredData[,c(\"country\", \"year\", \"probReunify\")], unitKey = 'country', timeKey = 'year')\n",
    "\n",
    "ourWeightMatrix <- propensity.score.to.weight(propScores, W)"
   ]
  },
  {
   "cell_type": "code",
   "execution_count": 23,
   "metadata": {},
   "outputs": [],
   "source": [
    "r1comp_info <- completion_with_rank_estimation_validate_mu(Y=gdpDataWideForm, W=W,  \n",
    "                                                           weight_matrix = ourWeightMatrix,\n",
    "                                                           initial_rank=60,\n",
    "                                                           tolerance=1e-04, \n",
    "                                                           validation_max_iter=5000,\n",
    "                                                           min_iter=100,\n",
    "                                                           max_iter=10000,\n",
    "                                                           mu_grid=c(0, 10^seq(-3,3, 1)),\n",
    "                                                           K=5)"
   ]
  },
  {
   "cell_type": "code",
   "execution_count": 18,
   "metadata": {},
   "outputs": [],
   "source": [
    "stopCluster(cl)"
   ]
  },
  {
   "cell_type": "code",
   "execution_count": 24,
   "metadata": {},
   "outputs": [
    {
     "data": {
      "text/html": [
       "<style>\n",
       ".list-inline {list-style: none; margin:0; padding: 0}\n",
       ".list-inline>li {display: inline-block}\n",
       ".list-inline>li:not(:last-child)::after {content: \"\\00b7\"; padding: 0 .5ex}\n",
       "</style>\n",
       "<ol class=list-inline><li>10222.8748213578</li><li>11129.4592480377</li><li>11326.4134981869</li><li>10776.5051662792</li><li>10892.9091419835</li><li>11174.3498913375</li><li>11610.7452904341</li><li>11437.9900796111</li></ol>\n"
      ],
      "text/latex": [
       "\\begin{enumerate*}\n",
       "\\item 10222.8748213578\n",
       "\\item 11129.4592480377\n",
       "\\item 11326.4134981869\n",
       "\\item 10776.5051662792\n",
       "\\item 10892.9091419835\n",
       "\\item 11174.3498913375\n",
       "\\item 11610.7452904341\n",
       "\\item 11437.9900796111\n",
       "\\end{enumerate*}\n"
      ],
      "text/markdown": [
       "1. 10222.8748213578\n",
       "2. 11129.4592480377\n",
       "3. 11326.4134981869\n",
       "4. 10776.5051662792\n",
       "5. 10892.9091419835\n",
       "6. 11174.3498913375\n",
       "7. 11610.7452904341\n",
       "8. 11437.9900796111\n",
       "\n",
       "\n"
      ],
      "text/plain": [
       "[1] 10222.87 11129.46 11326.41 10776.51 10892.91 11174.35 11610.75 11437.99"
      ]
     },
     "metadata": {},
     "output_type": "display_data"
    }
   ],
   "source": [
    "treat.estimator(Y=gdpDataWideForm, L.hat=r1comp_info$L_hat, W=W)"
   ]
  },
  {
   "cell_type": "code",
   "execution_count": 25,
   "metadata": {},
   "outputs": [
    {
     "data": {
      "image/png": "[encoded data removed]",
      "text/plain": [
       "plot without title"
      ]
     },
     "metadata": {
      "image/png": {
       "height": 420,
       "width": 420
      },
      "text/plain": {
       "height": 420,
       "width": 420
      }
     },
     "output_type": "display_data"
    }
   ],
   "source": [
    "plot(gdpDataWideForm[7,])\n",
    "lines(r1comp_info$L_hat[7,])"
   ]
  },
  {
   "cell_type": "code",
   "execution_count": 60,
   "metadata": {},
   "outputs": [],
   "source": [
    "data(mpdta)"
   ]
  },
  {
   "cell_type": "code",
   "execution_count": 58,
   "metadata": {},
   "outputs": [],
   "source": [
    "library(did)"
   ]
  },
  {
   "cell_type": "code",
   "execution_count": 61,
   "metadata": {},
   "outputs": [
    {
     "data": {
      "text/html": [
       "<table>\n",
       "<caption>A data.frame: 2500 × 6</caption>\n",
       "<thead>\n",
       "\t<tr><th></th><th scope=col>year</th><th scope=col>countyreal</th><th scope=col>lpop</th><th scope=col>lemp</th><th scope=col>first.treat</th><th scope=col>treat</th></tr>\n",
       "\t<tr><th></th><th scope=col>&lt;int&gt;</th><th scope=col>&lt;dbl&gt;</th><th scope=col>&lt;dbl&gt;</th><th scope=col>&lt;dbl&gt;</th><th scope=col>&lt;dbl&gt;</th><th scope=col>&lt;dbl&gt;</th></tr>\n",
       "</thead>\n",
       "<tbody>\n",
       "\t<tr><th scope=row>866</th><td>2003</td><td>8001</td><td>5.896761</td><td>8.461469</td><td>2007</td><td>1</td></tr>\n",
       "\t<tr><th scope=row>841</th><td>2004</td><td>8001</td><td>5.896761</td><td>8.336870</td><td>2007</td><td>1</td></tr>\n",
       "\t<tr><th scope=row>842</th><td>2005</td><td>8001</td><td>5.896761</td><td>8.340217</td><td>2007</td><td>1</td></tr>\n",
       "\t<tr><th scope=row>819</th><td>2006</td><td>8001</td><td>5.896761</td><td>8.378161</td><td>2007</td><td>1</td></tr>\n",
       "\t<tr><th scope=row>827</th><td>2007</td><td>8001</td><td>5.896761</td><td>8.487352</td><td>2007</td><td>1</td></tr>\n",
       "\t<tr><th scope=row>937</th><td>2003</td><td>8019</td><td>2.232377</td><td>4.997212</td><td>2007</td><td>1</td></tr>\n",
       "\t<tr><th scope=row>938</th><td>2004</td><td>8019</td><td>2.232377</td><td>5.081404</td><td>2007</td><td>1</td></tr>\n",
       "\t<tr><th scope=row>939</th><td>2005</td><td>8019</td><td>2.232377</td><td>4.787492</td><td>2007</td><td>1</td></tr>\n",
       "\t<tr><th scope=row>940</th><td>2006</td><td>8019</td><td>2.232377</td><td>4.990433</td><td>2007</td><td>1</td></tr>\n",
       "\t<tr><th scope=row>941</th><td>2007</td><td>8019</td><td>2.232377</td><td>5.036953</td><td>2007</td><td>1</td></tr>\n",
       "\t<tr><th scope=row>951</th><td>2003</td><td>8023</td><td>1.298282</td><td>2.197225</td><td>2007</td><td>1</td></tr>\n",
       "\t<tr><th scope=row>952</th><td>2004</td><td>8023</td><td>1.298282</td><td>2.302585</td><td>2007</td><td>1</td></tr>\n",
       "\t<tr><th scope=row>953</th><td>2005</td><td>8023</td><td>1.298282</td><td>2.772589</td><td>2007</td><td>1</td></tr>\n",
       "\t<tr><th scope=row>954</th><td>2006</td><td>8023</td><td>1.298282</td><td>1.945910</td><td>2007</td><td>1</td></tr>\n",
       "\t<tr><th scope=row>955</th><td>2007</td><td>8023</td><td>1.298282</td><td>2.995732</td><td>2007</td><td>1</td></tr>\n",
       "\t<tr><th scope=row>1176</th><td>2003</td><td>8029</td><td>3.326258</td><td>5.883322</td><td>2007</td><td>1</td></tr>\n",
       "\t<tr><th scope=row>1177</th><td>2004</td><td>8029</td><td>3.326258</td><td>5.789960</td><td>2007</td><td>1</td></tr>\n",
       "\t<tr><th scope=row>1178</th><td>2005</td><td>8029</td><td>3.326258</td><td>5.857933</td><td>2007</td><td>1</td></tr>\n",
       "\t<tr><th scope=row>1179</th><td>2006</td><td>8029</td><td>3.326258</td><td>5.998937</td><td>2007</td><td>1</td></tr>\n",
       "\t<tr><th scope=row>1167</th><td>2007</td><td>8029</td><td>3.326258</td><td>6.104793</td><td>2007</td><td>1</td></tr>\n",
       "\t<tr><th scope=row>1097</th><td>2003</td><td>8041</td><td>6.247906</td><td>8.968651</td><td>2007</td><td>1</td></tr>\n",
       "\t<tr><th scope=row>976</th><td>2004</td><td>8041</td><td>6.247906</td><td>8.915701</td><td>2007</td><td>1</td></tr>\n",
       "\t<tr><th scope=row>977</th><td>2005</td><td>8041</td><td>6.247906</td><td>8.900958</td><td>2007</td><td>1</td></tr>\n",
       "\t<tr><th scope=row>978</th><td>2006</td><td>8041</td><td>6.247906</td><td>8.902728</td><td>2007</td><td>1</td></tr>\n",
       "\t<tr><th scope=row>979</th><td>2007</td><td>8041</td><td>6.247906</td><td>8.881003</td><td>2007</td><td>1</td></tr>\n",
       "\t<tr><th scope=row>1170</th><td>2003</td><td>8063</td><td>2.080816</td><td>4.941642</td><td>2007</td><td>1</td></tr>\n",
       "\t<tr><th scope=row>1171</th><td>2004</td><td>8063</td><td>2.080816</td><td>4.867534</td><td>2007</td><td>1</td></tr>\n",
       "\t<tr><th scope=row>1172</th><td>2005</td><td>8063</td><td>2.080816</td><td>4.663439</td><td>2007</td><td>1</td></tr>\n",
       "\t<tr><th scope=row>1228</th><td>2006</td><td>8063</td><td>2.080816</td><td>4.812184</td><td>2007</td><td>1</td></tr>\n",
       "\t<tr><th scope=row>1229</th><td>2007</td><td>8063</td><td>2.080816</td><td>4.919981</td><td>2007</td><td>1</td></tr>\n",
       "\t<tr><th scope=row>⋮</th><td>⋮</td><td>⋮</td><td>⋮</td><td>⋮</td><td>⋮</td><td>⋮</td></tr>\n",
       "\t<tr><th scope=row>19004</th><td>2003</td><td>55085</td><td>3.604845</td><td>6.725034</td><td>2006</td><td>1</td></tr>\n",
       "\t<tr><th scope=row>19005</th><td>2004</td><td>55085</td><td>3.604845</td><td>6.598509</td><td>2006</td><td>1</td></tr>\n",
       "\t<tr><th scope=row>19006</th><td>2005</td><td>55085</td><td>3.604845</td><td>6.634633</td><td>2006</td><td>1</td></tr>\n",
       "\t<tr><th scope=row>19007</th><td>2006</td><td>55085</td><td>3.604845</td><td>6.584791</td><td>2006</td><td>1</td></tr>\n",
       "\t<tr><th scope=row>19008</th><td>2007</td><td>55085</td><td>3.604845</td><td>6.565265</td><td>2006</td><td>1</td></tr>\n",
       "\t<tr><th scope=row>19067</th><td>2003</td><td>55103</td><td>2.886141</td><td>5.693732</td><td>2006</td><td>1</td></tr>\n",
       "\t<tr><th scope=row>19068</th><td>2004</td><td>55103</td><td>2.886141</td><td>5.549076</td><td>2006</td><td>1</td></tr>\n",
       "\t<tr><th scope=row>19069</th><td>2005</td><td>55103</td><td>2.886141</td><td>5.480639</td><td>2006</td><td>1</td></tr>\n",
       "\t<tr><th scope=row>19070</th><td>2006</td><td>55103</td><td>2.886141</td><td>5.533389</td><td>2006</td><td>1</td></tr>\n",
       "\t<tr><th scope=row>19071</th><td>2007</td><td>55103</td><td>2.886141</td><td>5.556828</td><td>2006</td><td>1</td></tr>\n",
       "\t<tr><th scope=row>19088</th><td>2003</td><td>55109</td><td>4.145592</td><td>7.457609</td><td>2006</td><td>1</td></tr>\n",
       "\t<tr><th scope=row>19089</th><td>2004</td><td>55109</td><td>4.145592</td><td>7.377134</td><td>2006</td><td>1</td></tr>\n",
       "\t<tr><th scope=row>19090</th><td>2005</td><td>55109</td><td>4.145592</td><td>7.357556</td><td>2006</td><td>1</td></tr>\n",
       "\t<tr><th scope=row>19091</th><td>2006</td><td>55109</td><td>4.145592</td><td>7.356280</td><td>2006</td><td>1</td></tr>\n",
       "\t<tr><th scope=row>19092</th><td>2007</td><td>55109</td><td>4.145592</td><td>7.311218</td><td>2006</td><td>1</td></tr>\n",
       "\t<tr><th scope=row>19137</th><td>2003</td><td>55123</td><td>3.334203</td><td>6.042633</td><td>2006</td><td>1</td></tr>\n",
       "\t<tr><th scope=row>19138</th><td>2004</td><td>55123</td><td>3.334203</td><td>6.018593</td><td>2006</td><td>1</td></tr>\n",
       "\t<tr><th scope=row>19139</th><td>2005</td><td>55123</td><td>3.334203</td><td>5.913503</td><td>2006</td><td>1</td></tr>\n",
       "\t<tr><th scope=row>19140</th><td>2006</td><td>55123</td><td>3.334203</td><td>5.894403</td><td>2006</td><td>1</td></tr>\n",
       "\t<tr><th scope=row>19141</th><td>2007</td><td>55123</td><td>3.334203</td><td>5.910797</td><td>2006</td><td>1</td></tr>\n",
       "\t<tr><th scope=row>19165</th><td>2003</td><td>55131</td><td>4.766379</td><td>8.087025</td><td>2006</td><td>1</td></tr>\n",
       "\t<tr><th scope=row>19166</th><td>2004</td><td>55131</td><td>4.766379</td><td>8.092545</td><td>2006</td><td>1</td></tr>\n",
       "\t<tr><th scope=row>19167</th><td>2005</td><td>55131</td><td>4.766379</td><td>8.121183</td><td>2006</td><td>1</td></tr>\n",
       "\t<tr><th scope=row>19168</th><td>2006</td><td>55131</td><td>4.766379</td><td>8.073403</td><td>2006</td><td>1</td></tr>\n",
       "\t<tr><th scope=row>19169</th><td>2007</td><td>55131</td><td>4.766379</td><td>8.118207</td><td>2006</td><td>1</td></tr>\n",
       "\t<tr><th scope=row>19186</th><td>2003</td><td>55137</td><td>3.142168</td><td>5.955837</td><td>2006</td><td>1</td></tr>\n",
       "\t<tr><th scope=row>19187</th><td>2004</td><td>55137</td><td>3.142168</td><td>5.924256</td><td>2006</td><td>1</td></tr>\n",
       "\t<tr><th scope=row>19188</th><td>2005</td><td>55137</td><td>3.142168</td><td>5.942799</td><td>2006</td><td>1</td></tr>\n",
       "\t<tr><th scope=row>19189</th><td>2006</td><td>55137</td><td>3.142168</td><td>5.937536</td><td>2006</td><td>1</td></tr>\n",
       "\t<tr><th scope=row>19190</th><td>2007</td><td>55137</td><td>3.142168</td><td>5.963579</td><td>2006</td><td>1</td></tr>\n",
       "</tbody>\n",
       "</table>\n"
      ],
      "text/latex": [
       "A data.frame: 2500 × 6\n",
       "\\begin{tabular}{r|llllll}\n",
       "  & year & countyreal & lpop & lemp & first.treat & treat\\\\\n",
       "  & <int> & <dbl> & <dbl> & <dbl> & <dbl> & <dbl>\\\\\n",
       "\\hline\n",
       "\t866 & 2003 & 8001 & 5.896761 & 8.461469 & 2007 & 1\\\\\n",
       "\t841 & 2004 & 8001 & 5.896761 & 8.336870 & 2007 & 1\\\\\n",
       "\t842 & 2005 & 8001 & 5.896761 & 8.340217 & 2007 & 1\\\\\n",
       "\t819 & 2006 & 8001 & 5.896761 & 8.378161 & 2007 & 1\\\\\n",
       "\t827 & 2007 & 8001 & 5.896761 & 8.487352 & 2007 & 1\\\\\n",
       "\t937 & 2003 & 8019 & 2.232377 & 4.997212 & 2007 & 1\\\\\n",
       "\t938 & 2004 & 8019 & 2.232377 & 5.081404 & 2007 & 1\\\\\n",
       "\t939 & 2005 & 8019 & 2.232377 & 4.787492 & 2007 & 1\\\\\n",
       "\t940 & 2006 & 8019 & 2.232377 & 4.990433 & 2007 & 1\\\\\n",
       "\t941 & 2007 & 8019 & 2.232377 & 5.036953 & 2007 & 1\\\\\n",
       "\t951 & 2003 & 8023 & 1.298282 & 2.197225 & 2007 & 1\\\\\n",
       "\t952 & 2004 & 8023 & 1.298282 & 2.302585 & 2007 & 1\\\\\n",
       "\t953 & 2005 & 8023 & 1.298282 & 2.772589 & 2007 & 1\\\\\n",
       "\t954 & 2006 & 8023 & 1.298282 & 1.945910 & 2007 & 1\\\\\n",
       "\t955 & 2007 & 8023 & 1.298282 & 2.995732 & 2007 & 1\\\\\n",
       "\t1176 & 2003 & 8029 & 3.326258 & 5.883322 & 2007 & 1\\\\\n",
       "\t1177 & 2004 & 8029 & 3.326258 & 5.789960 & 2007 & 1\\\\\n",
       "\t1178 & 2005 & 8029 & 3.326258 & 5.857933 & 2007 & 1\\\\\n",
       "\t1179 & 2006 & 8029 & 3.326258 & 5.998937 & 2007 & 1\\\\\n",
       "\t1167 & 2007 & 8029 & 3.326258 & 6.104793 & 2007 & 1\\\\\n",
       "\t1097 & 2003 & 8041 & 6.247906 & 8.968651 & 2007 & 1\\\\\n",
       "\t976 & 2004 & 8041 & 6.247906 & 8.915701 & 2007 & 1\\\\\n",
       "\t977 & 2005 & 8041 & 6.247906 & 8.900958 & 2007 & 1\\\\\n",
       "\t978 & 2006 & 8041 & 6.247906 & 8.902728 & 2007 & 1\\\\\n",
       "\t979 & 2007 & 8041 & 6.247906 & 8.881003 & 2007 & 1\\\\\n",
       "\t1170 & 2003 & 8063 & 2.080816 & 4.941642 & 2007 & 1\\\\\n",
       "\t1171 & 2004 & 8063 & 2.080816 & 4.867534 & 2007 & 1\\\\\n",
       "\t1172 & 2005 & 8063 & 2.080816 & 4.663439 & 2007 & 1\\\\\n",
       "\t1228 & 2006 & 8063 & 2.080816 & 4.812184 & 2007 & 1\\\\\n",
       "\t1229 & 2007 & 8063 & 2.080816 & 4.919981 & 2007 & 1\\\\\n",
       "\t⋮ & ⋮ & ⋮ & ⋮ & ⋮ & ⋮ & ⋮\\\\\n",
       "\t19004 & 2003 & 55085 & 3.604845 & 6.725034 & 2006 & 1\\\\\n",
       "\t19005 & 2004 & 55085 & 3.604845 & 6.598509 & 2006 & 1\\\\\n",
       "\t19006 & 2005 & 55085 & 3.604845 & 6.634633 & 2006 & 1\\\\\n",
       "\t19007 & 2006 & 55085 & 3.604845 & 6.584791 & 2006 & 1\\\\\n",
       "\t19008 & 2007 & 55085 & 3.604845 & 6.565265 & 2006 & 1\\\\\n",
       "\t19067 & 2003 & 55103 & 2.886141 & 5.693732 & 2006 & 1\\\\\n",
       "\t19068 & 2004 & 55103 & 2.886141 & 5.549076 & 2006 & 1\\\\\n",
       "\t19069 & 2005 & 55103 & 2.886141 & 5.480639 & 2006 & 1\\\\\n",
       "\t19070 & 2006 & 55103 & 2.886141 & 5.533389 & 2006 & 1\\\\\n",
       "\t19071 & 2007 & 55103 & 2.886141 & 5.556828 & 2006 & 1\\\\\n",
       "\t19088 & 2003 & 55109 & 4.145592 & 7.457609 & 2006 & 1\\\\\n",
       "\t19089 & 2004 & 55109 & 4.145592 & 7.377134 & 2006 & 1\\\\\n",
       "\t19090 & 2005 & 55109 & 4.145592 & 7.357556 & 2006 & 1\\\\\n",
       "\t19091 & 2006 & 55109 & 4.145592 & 7.356280 & 2006 & 1\\\\\n",
       "\t19092 & 2007 & 55109 & 4.145592 & 7.311218 & 2006 & 1\\\\\n",
       "\t19137 & 2003 & 55123 & 3.334203 & 6.042633 & 2006 & 1\\\\\n",
       "\t19138 & 2004 & 55123 & 3.334203 & 6.018593 & 2006 & 1\\\\\n",
       "\t19139 & 2005 & 55123 & 3.334203 & 5.913503 & 2006 & 1\\\\\n",
       "\t19140 & 2006 & 55123 & 3.334203 & 5.894403 & 2006 & 1\\\\\n",
       "\t19141 & 2007 & 55123 & 3.334203 & 5.910797 & 2006 & 1\\\\\n",
       "\t19165 & 2003 & 55131 & 4.766379 & 8.087025 & 2006 & 1\\\\\n",
       "\t19166 & 2004 & 55131 & 4.766379 & 8.092545 & 2006 & 1\\\\\n",
       "\t19167 & 2005 & 55131 & 4.766379 & 8.121183 & 2006 & 1\\\\\n",
       "\t19168 & 2006 & 55131 & 4.766379 & 8.073403 & 2006 & 1\\\\\n",
       "\t19169 & 2007 & 55131 & 4.766379 & 8.118207 & 2006 & 1\\\\\n",
       "\t19186 & 2003 & 55137 & 3.142168 & 5.955837 & 2006 & 1\\\\\n",
       "\t19187 & 2004 & 55137 & 3.142168 & 5.924256 & 2006 & 1\\\\\n",
       "\t19188 & 2005 & 55137 & 3.142168 & 5.942799 & 2006 & 1\\\\\n",
       "\t19189 & 2006 & 55137 & 3.142168 & 5.937536 & 2006 & 1\\\\\n",
       "\t19190 & 2007 & 55137 & 3.142168 & 5.963579 & 2006 & 1\\\\\n",
       "\\end{tabular}\n"
      ],
      "text/markdown": [
       "\n",
       "A data.frame: 2500 × 6\n",
       "\n",
       "| <!--/--> | year &lt;int&gt; | countyreal &lt;dbl&gt; | lpop &lt;dbl&gt; | lemp &lt;dbl&gt; | first.treat &lt;dbl&gt; | treat &lt;dbl&gt; |\n",
       "|---|---|---|---|---|---|---|\n",
       "| 866 | 2003 | 8001 | 5.896761 | 8.461469 | 2007 | 1 |\n",
       "| 841 | 2004 | 8001 | 5.896761 | 8.336870 | 2007 | 1 |\n",
       "| 842 | 2005 | 8001 | 5.896761 | 8.340217 | 2007 | 1 |\n",
       "| 819 | 2006 | 8001 | 5.896761 | 8.378161 | 2007 | 1 |\n",
       "| 827 | 2007 | 8001 | 5.896761 | 8.487352 | 2007 | 1 |\n",
       "| 937 | 2003 | 8019 | 2.232377 | 4.997212 | 2007 | 1 |\n",
       "| 938 | 2004 | 8019 | 2.232377 | 5.081404 | 2007 | 1 |\n",
       "| 939 | 2005 | 8019 | 2.232377 | 4.787492 | 2007 | 1 |\n",
       "| 940 | 2006 | 8019 | 2.232377 | 4.990433 | 2007 | 1 |\n",
       "| 941 | 2007 | 8019 | 2.232377 | 5.036953 | 2007 | 1 |\n",
       "| 951 | 2003 | 8023 | 1.298282 | 2.197225 | 2007 | 1 |\n",
       "| 952 | 2004 | 8023 | 1.298282 | 2.302585 | 2007 | 1 |\n",
       "| 953 | 2005 | 8023 | 1.298282 | 2.772589 | 2007 | 1 |\n",
       "| 954 | 2006 | 8023 | 1.298282 | 1.945910 | 2007 | 1 |\n",
       "| 955 | 2007 | 8023 | 1.298282 | 2.995732 | 2007 | 1 |\n",
       "| 1176 | 2003 | 8029 | 3.326258 | 5.883322 | 2007 | 1 |\n",
       "| 1177 | 2004 | 8029 | 3.326258 | 5.789960 | 2007 | 1 |\n",
       "| 1178 | 2005 | 8029 | 3.326258 | 5.857933 | 2007 | 1 |\n",
       "| 1179 | 2006 | 8029 | 3.326258 | 5.998937 | 2007 | 1 |\n",
       "| 1167 | 2007 | 8029 | 3.326258 | 6.104793 | 2007 | 1 |\n",
       "| 1097 | 2003 | 8041 | 6.247906 | 8.968651 | 2007 | 1 |\n",
       "| 976 | 2004 | 8041 | 6.247906 | 8.915701 | 2007 | 1 |\n",
       "| 977 | 2005 | 8041 | 6.247906 | 8.900958 | 2007 | 1 |\n",
       "| 978 | 2006 | 8041 | 6.247906 | 8.902728 | 2007 | 1 |\n",
       "| 979 | 2007 | 8041 | 6.247906 | 8.881003 | 2007 | 1 |\n",
       "| 1170 | 2003 | 8063 | 2.080816 | 4.941642 | 2007 | 1 |\n",
       "| 1171 | 2004 | 8063 | 2.080816 | 4.867534 | 2007 | 1 |\n",
       "| 1172 | 2005 | 8063 | 2.080816 | 4.663439 | 2007 | 1 |\n",
       "| 1228 | 2006 | 8063 | 2.080816 | 4.812184 | 2007 | 1 |\n",
       "| 1229 | 2007 | 8063 | 2.080816 | 4.919981 | 2007 | 1 |\n",
       "| ⋮ | ⋮ | ⋮ | ⋮ | ⋮ | ⋮ | ⋮ |\n",
       "| 19004 | 2003 | 55085 | 3.604845 | 6.725034 | 2006 | 1 |\n",
       "| 19005 | 2004 | 55085 | 3.604845 | 6.598509 | 2006 | 1 |\n",
       "| 19006 | 2005 | 55085 | 3.604845 | 6.634633 | 2006 | 1 |\n",
       "| 19007 | 2006 | 55085 | 3.604845 | 6.584791 | 2006 | 1 |\n",
       "| 19008 | 2007 | 55085 | 3.604845 | 6.565265 | 2006 | 1 |\n",
       "| 19067 | 2003 | 55103 | 2.886141 | 5.693732 | 2006 | 1 |\n",
       "| 19068 | 2004 | 55103 | 2.886141 | 5.549076 | 2006 | 1 |\n",
       "| 19069 | 2005 | 55103 | 2.886141 | 5.480639 | 2006 | 1 |\n",
       "| 19070 | 2006 | 55103 | 2.886141 | 5.533389 | 2006 | 1 |\n",
       "| 19071 | 2007 | 55103 | 2.886141 | 5.556828 | 2006 | 1 |\n",
       "| 19088 | 2003 | 55109 | 4.145592 | 7.457609 | 2006 | 1 |\n",
       "| 19089 | 2004 | 55109 | 4.145592 | 7.377134 | 2006 | 1 |\n",
       "| 19090 | 2005 | 55109 | 4.145592 | 7.357556 | 2006 | 1 |\n",
       "| 19091 | 2006 | 55109 | 4.145592 | 7.356280 | 2006 | 1 |\n",
       "| 19092 | 2007 | 55109 | 4.145592 | 7.311218 | 2006 | 1 |\n",
       "| 19137 | 2003 | 55123 | 3.334203 | 6.042633 | 2006 | 1 |\n",
       "| 19138 | 2004 | 55123 | 3.334203 | 6.018593 | 2006 | 1 |\n",
       "| 19139 | 2005 | 55123 | 3.334203 | 5.913503 | 2006 | 1 |\n",
       "| 19140 | 2006 | 55123 | 3.334203 | 5.894403 | 2006 | 1 |\n",
       "| 19141 | 2007 | 55123 | 3.334203 | 5.910797 | 2006 | 1 |\n",
       "| 19165 | 2003 | 55131 | 4.766379 | 8.087025 | 2006 | 1 |\n",
       "| 19166 | 2004 | 55131 | 4.766379 | 8.092545 | 2006 | 1 |\n",
       "| 19167 | 2005 | 55131 | 4.766379 | 8.121183 | 2006 | 1 |\n",
       "| 19168 | 2006 | 55131 | 4.766379 | 8.073403 | 2006 | 1 |\n",
       "| 19169 | 2007 | 55131 | 4.766379 | 8.118207 | 2006 | 1 |\n",
       "| 19186 | 2003 | 55137 | 3.142168 | 5.955837 | 2006 | 1 |\n",
       "| 19187 | 2004 | 55137 | 3.142168 | 5.924256 | 2006 | 1 |\n",
       "| 19188 | 2005 | 55137 | 3.142168 | 5.942799 | 2006 | 1 |\n",
       "| 19189 | 2006 | 55137 | 3.142168 | 5.937536 | 2006 | 1 |\n",
       "| 19190 | 2007 | 55137 | 3.142168 | 5.963579 | 2006 | 1 |\n",
       "\n"
      ],
      "text/plain": [
       "      year countyreal lpop     lemp     first.treat treat\n",
       "866   2003 8001       5.896761 8.461469 2007        1    \n",
       "841   2004 8001       5.896761 8.336870 2007        1    \n",
       "842   2005 8001       5.896761 8.340217 2007        1    \n",
       "819   2006 8001       5.896761 8.378161 2007        1    \n",
       "827   2007 8001       5.896761 8.487352 2007        1    \n",
       "937   2003 8019       2.232377 4.997212 2007        1    \n",
       "938   2004 8019       2.232377 5.081404 2007        1    \n",
       "939   2005 8019       2.232377 4.787492 2007        1    \n",
       "940   2006 8019       2.232377 4.990433 2007        1    \n",
       "941   2007 8019       2.232377 5.036953 2007        1    \n",
       "951   2003 8023       1.298282 2.197225 2007        1    \n",
       "952   2004 8023       1.298282 2.302585 2007        1    \n",
       "953   2005 8023       1.298282 2.772589 2007        1    \n",
       "954   2006 8023       1.298282 1.945910 2007        1    \n",
       "955   2007 8023       1.298282 2.995732 2007        1    \n",
       "1176  2003 8029       3.326258 5.883322 2007        1    \n",
       "1177  2004 8029       3.326258 5.789960 2007        1    \n",
       "1178  2005 8029       3.326258 5.857933 2007        1    \n",
       "1179  2006 8029       3.326258 5.998937 2007        1    \n",
       "1167  2007 8029       3.326258 6.104793 2007        1    \n",
       "1097  2003 8041       6.247906 8.968651 2007        1    \n",
       "976   2004 8041       6.247906 8.915701 2007        1    \n",
       "977   2005 8041       6.247906 8.900958 2007        1    \n",
       "978   2006 8041       6.247906 8.902728 2007        1    \n",
       "979   2007 8041       6.247906 8.881003 2007        1    \n",
       "1170  2003 8063       2.080816 4.941642 2007        1    \n",
       "1171  2004 8063       2.080816 4.867534 2007        1    \n",
       "1172  2005 8063       2.080816 4.663439 2007        1    \n",
       "1228  2006 8063       2.080816 4.812184 2007        1    \n",
       "1229  2007 8063       2.080816 4.919981 2007        1    \n",
       "⋮     ⋮    ⋮          ⋮        ⋮        ⋮           ⋮    \n",
       "19004 2003 55085      3.604845 6.725034 2006        1    \n",
       "19005 2004 55085      3.604845 6.598509 2006        1    \n",
       "19006 2005 55085      3.604845 6.634633 2006        1    \n",
       "19007 2006 55085      3.604845 6.584791 2006        1    \n",
       "19008 2007 55085      3.604845 6.565265 2006        1    \n",
       "19067 2003 55103      2.886141 5.693732 2006        1    \n",
       "19068 2004 55103      2.886141 5.549076 2006        1    \n",
       "19069 2005 55103      2.886141 5.480639 2006        1    \n",
       "19070 2006 55103      2.886141 5.533389 2006        1    \n",
       "19071 2007 55103      2.886141 5.556828 2006        1    \n",
       "19088 2003 55109      4.145592 7.457609 2006        1    \n",
       "19089 2004 55109      4.145592 7.377134 2006        1    \n",
       "19090 2005 55109      4.145592 7.357556 2006        1    \n",
       "19091 2006 55109      4.145592 7.356280 2006        1    \n",
       "19092 2007 55109      4.145592 7.311218 2006        1    \n",
       "19137 2003 55123      3.334203 6.042633 2006        1    \n",
       "19138 2004 55123      3.334203 6.018593 2006        1    \n",
       "19139 2005 55123      3.334203 5.913503 2006        1    \n",
       "19140 2006 55123      3.334203 5.894403 2006        1    \n",
       "19141 2007 55123      3.334203 5.910797 2006        1    \n",
       "19165 2003 55131      4.766379 8.087025 2006        1    \n",
       "19166 2004 55131      4.766379 8.092545 2006        1    \n",
       "19167 2005 55131      4.766379 8.121183 2006        1    \n",
       "19168 2006 55131      4.766379 8.073403 2006        1    \n",
       "19169 2007 55131      4.766379 8.118207 2006        1    \n",
       "19186 2003 55137      3.142168 5.955837 2006        1    \n",
       "19187 2004 55137      3.142168 5.924256 2006        1    \n",
       "19188 2005 55137      3.142168 5.942799 2006        1    \n",
       "19189 2006 55137      3.142168 5.937536 2006        1    \n",
       "19190 2007 55137      3.142168 5.963579 2006        1    "
      ]
     },
     "metadata": {},
     "output_type": "display_data"
    }
   ],
   "source": [
    "mpdta"
   ]
  },
  {
   "cell_type": "code",
   "execution_count": 64,
   "metadata": {},
   "outputs": [
    {
     "data": {
      "text/html": [
       "\n",
       "<table width=\"100%\" summary=\"page for mpdta {did}\"><tr><td>mpdta {did}</td><td style=\"text-align: right;\">R Documentation</td></tr></table>\n",
       "\n",
       "<h2>County teen employment</h2>\n",
       "\n",
       "<h3>Description</h3>\n",
       "\n",
       "<p>A dataset containing (the log of) teen employment in 500 counties in the U.S.\n",
       "from 2004 to 2007.  This is a subset of the dataset used in Callaway and\n",
       "Sant'Anna (2018).  See that paper for additional descriptions.\n",
       "</p>\n",
       "\n",
       "\n",
       "<h3>Usage</h3>\n",
       "\n",
       "<pre>\n",
       "mpdta\n",
       "</pre>\n",
       "\n",
       "\n",
       "<h3>Format</h3>\n",
       "\n",
       "<p>A data frame with 2000 rows and 5 variables:\n",
       "</p>\n",
       "\n",
       "<dl>\n",
       "<dt>year</dt><dd><p>the year of the observation</p>\n",
       "</dd>\n",
       "<dt>countyreal</dt><dd><p>a unique identifier for a particular county</p>\n",
       "</dd>\n",
       "<dt>lpop</dt><dd><p>the log of 1000s of population for the county</p>\n",
       "</dd>\n",
       "<dt>lemp</dt><dd><p>the log of teen employment in the county</p>\n",
       "</dd>\n",
       "<dt>first.treat</dt><dd><p>the year that the state where the county is located\n",
       "raised its minimum wage, it is set equal to 0 for counties that have\n",
       "minimum wages equal to the federal minimum wage over the entire\n",
       "period.</p>\n",
       "</dd>\n",
       "<dt>treat</dt><dd><p>whether or not a particular county is treated in that year</p>\n",
       "</dd>\n",
       "</dl>\n",
       "\n",
       "\n",
       "<h3>Source</h3>\n",
       "\n",
       "<p>Callaway and Sant'Anna (2018)\n",
       "</p>\n",
       "\n",
       "<hr /><div style=\"text-align: center;\">[Package <em>did</em> version 1.2.3 ]</div>"
      ],
      "text/latex": [
       "\\inputencoding{utf8}\n",
       "\\HeaderA{mpdta}{County teen employment}{mpdta}\n",
       "\\keyword{datasets}{mpdta}\n",
       "%\n",
       "\\begin{Description}\\relax\n",
       "A dataset containing (the log of) teen employment in 500 counties in the U.S.\n",
       "from 2004 to 2007.  This is a subset of the dataset used in Callaway and\n",
       "Sant'Anna (2018).  See that paper for additional descriptions.\n",
       "\\end{Description}\n",
       "%\n",
       "\\begin{Usage}\n",
       "\\begin{verbatim}\n",
       "mpdta\n",
       "\\end{verbatim}\n",
       "\\end{Usage}\n",
       "%\n",
       "\\begin{Format}\n",
       "A data frame with 2000 rows and 5 variables:\n",
       "\\begin{description}\n",
       "\n",
       "\\item[year] the year of the observation\n",
       "\\item[countyreal] a unique identifier for a particular county\n",
       "\\item[lpop] the log of 1000s of population for the county\n",
       "\\item[lemp] the log of teen employment in the county\n",
       "\\item[first.treat] the year that the state where the county is located\n",
       "raised its minimum wage, it is set equal to 0 for counties that have\n",
       "minimum wages equal to the federal minimum wage over the entire\n",
       "period.\n",
       "\\item[treat] whether or not a particular county is treated in that year\n",
       "\n",
       "\\end{description}\n",
       "\\end{Format}\n",
       "%\n",
       "\\begin{Source}\\relax\n",
       "Callaway and Sant'Anna (2018)\n",
       "\\end{Source}"
      ],
      "text/plain": [
       "mpdta                   package:did                    R Documentation\n",
       "\n",
       "_\bC_\bo_\bu_\bn_\bt_\by _\bt_\be_\be_\bn _\be_\bm_\bp_\bl_\bo_\by_\bm_\be_\bn_\bt\n",
       "\n",
       "_\bD_\be_\bs_\bc_\br_\bi_\bp_\bt_\bi_\bo_\bn:\n",
       "\n",
       "     A dataset containing (the log of) teen employment in 500 counties\n",
       "     in the U.S.  from 2004 to 2007.  This is a subset of the dataset\n",
       "     used in Callaway and Sant'Anna (2018).  See that paper for\n",
       "     additional descriptions.\n",
       "\n",
       "_\bU_\bs_\ba_\bg_\be:\n",
       "\n",
       "     mpdta\n",
       "     \n",
       "_\bF_\bo_\br_\bm_\ba_\bt:\n",
       "\n",
       "     A data frame with 2000 rows and 5 variables:\n",
       "\n",
       "     year the year of the observation\n",
       "\n",
       "     countyreal a unique identifier for a particular county\n",
       "\n",
       "     lpop the log of 1000s of population for the county\n",
       "\n",
       "     lemp the log of teen employment in the county\n",
       "\n",
       "     first.treat the year that the state where the county is located\n",
       "          raised its minimum wage, it is set equal to 0 for counties\n",
       "          that have minimum wages equal to the federal minimum wage\n",
       "          over the entire period.\n",
       "\n",
       "     treat whether or not a particular county is treated in that year\n",
       "\n",
       "_\bS_\bo_\bu_\br_\bc_\be:\n",
       "\n",
       "     Callaway and Sant'Anna (2018)\n"
      ]
     },
     "metadata": {},
     "output_type": "display_data"
    }
   ],
   "source": [
    "?mpdta"
   ]
  },
  {
   "cell_type": "code",
   "execution_count": null,
   "metadata": {},
   "outputs": [],
   "source": []
  },
  {
   "cell_type": "code",
   "execution_count": null,
   "metadata": {},
   "outputs": [],
   "source": []
  }
 ],
 "metadata": {
  "kernelspec": {
   "display_name": "R",
   "language": "R",
   "name": "ir"
  },
  "language_info": {
   "codemirror_mode": "r",
   "file_extension": ".r",
   "mimetype": "text/x-r-source",
   "name": "R",
   "pygments_lexer": "r",
   "version": "3.6.3"
  }
 },
 "nbformat": 4,
 "nbformat_minor": 4
}
