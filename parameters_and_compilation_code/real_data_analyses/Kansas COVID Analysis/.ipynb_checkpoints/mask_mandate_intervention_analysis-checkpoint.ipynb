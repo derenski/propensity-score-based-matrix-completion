{
 "cells": [
  {
   "cell_type": "code",
   "execution_count": 1,
   "metadata": {},
   "outputs": [
    {
     "name": "stderr",
     "output_type": "stream",
     "text": [
      "\n",
      "Attaching package: ‘dplyr’\n",
      "\n",
      "\n",
      "The following objects are masked from ‘package:stats’:\n",
      "\n",
      "    filter, lag\n",
      "\n",
      "\n",
      "The following objects are masked from ‘package:base’:\n",
      "\n",
      "    intersect, setdiff, setequal, union\n",
      "\n",
      "\n",
      "\n",
      "Attaching package: ‘lubridate’\n",
      "\n",
      "\n",
      "The following objects are masked from ‘package:dplyr’:\n",
      "\n",
      "    intersect, setdiff, union\n",
      "\n",
      "\n",
      "The following objects are masked from ‘package:base’:\n",
      "\n",
      "    date, intersect, setdiff, union\n",
      "\n",
      "\n",
      "\n",
      "Attaching package: ‘LaplacesDemon’\n",
      "\n",
      "\n",
      "The following objects are masked from ‘package:lubridate’:\n",
      "\n",
      "    dst, interval\n",
      "\n",
      "\n",
      "Loading required package: Matrix\n",
      "\n",
      "Loaded glmnet 3.0-2\n",
      "\n",
      "\n",
      "Registered S3 method overwritten by 'quantmod':\n",
      "  method            from\n",
      "  as.zoo.data.frame zoo \n",
      "\n",
      "\n",
      "Attaching package: ‘forecast’\n",
      "\n",
      "\n",
      "The following object is masked from ‘package:LaplacesDemon’:\n",
      "\n",
      "    is.constant\n",
      "\n",
      "\n",
      "\n",
      "Attaching package: ‘zoo’\n",
      "\n",
      "\n",
      "The following objects are masked from ‘package:base’:\n",
      "\n",
      "    as.Date, as.Date.numeric\n",
      "\n",
      "\n"
     ]
    }
   ],
   "source": [
    "library(ggplot2)\n",
    "library(dplyr)\n",
    "library(stringr)\n",
    "library(lubridate)\n",
    "library(LaplacesDemon)\n",
    "library(counties)\n",
    "library(glmnet)\n",
    "library(forecast)\n",
    "library(zoo)\n",
    "\n",
    "###  July 3, 2020 is when the mask mandate got implemented,\n",
    "### with the option to opt out\n",
    "### Some counties had various restrictions before this"
   ]
  },
  {
   "cell_type": "code",
   "execution_count": 2,
   "metadata": {},
   "outputs": [],
   "source": [
    "variableExpander <- function(keysAndVariable, unitKey, timeKey){ ### Expands into unit/time format\n",
    "  \n",
    "  orderedData <- keysAndVariable %>% arrange(get(unitKey), get(timeKey))\n",
    "  \n",
    "  outcomeName <- names(keysAndVariable)[!(names(keysAndVariable) %in% c(unitKey, timeKey))]\n",
    "  \n",
    "  outcomeMatrixForm <- matrix(NA, nrow=length(unique(keysAndVariable[, unitKey])), \n",
    "                              ncol=length(unique(keysAndVariable[, timeKey])), byrow=T)\n",
    "  \n",
    "  rownames(outcomeMatrixForm) <- unique(keysAndVariable[, unitKey])\n",
    "  \n",
    "  colnames(outcomeMatrixForm) <- str_replace_all(unique(keysAndVariable[, timeKey])[order(unique(keysAndVariable[, timeKey]))], pattern=\"-\", replace=\"\")\n",
    "  \n",
    "  for (index in 1:length(keysAndVariable[, unitKey])){\n",
    "    \n",
    "    outcomeMatrixForm[keysAndVariable[, unitKey][index], str_replace_all(keysAndVariable[, timeKey][index], pattern=\"-\", replace=\"\")] <- keysAndVariable[, outcomeName][index]\n",
    "    \n",
    "  }\n",
    "  \n",
    "  return(outcomeMatrixForm)\n",
    "  \n",
    "}"
   ]
  },
  {
   "cell_type": "code",
   "execution_count": 3,
   "metadata": {},
   "outputs": [
    {
     "data": {
      "text/html": [
       "<style>\n",
       ".list-inline {list-style: none; margin:0; padding: 0}\n",
       ".list-inline>li {display: inline-block}\n",
       ".list-inline>li:not(:last-child)::after {content: \"\\00b7\"; padding: 0 .5ex}\n",
       "</style>\n",
       "<ol class=list-inline><li>'county_names_and_abbrevs.csv'</li><li>'kansas_covid_mandate_Data.csv'</li><li>'mask_mandate_intervention_analysis.ipynb'</li><li>'state and county fips.csv'</li><li>'testing_count_data.csv'</li></ol>\n"
      ],
      "text/latex": [
       "\\begin{enumerate*}\n",
       "\\item 'county\\_names\\_and\\_abbrevs.csv'\n",
       "\\item 'kansas\\_covid\\_mandate\\_Data.csv'\n",
       "\\item 'mask\\_mandate\\_intervention\\_analysis.ipynb'\n",
       "\\item 'state and county fips.csv'\n",
       "\\item 'testing\\_count\\_data.csv'\n",
       "\\end{enumerate*}\n"
      ],
      "text/markdown": [
       "1. 'county_names_and_abbrevs.csv'\n",
       "2. 'kansas_covid_mandate_Data.csv'\n",
       "3. 'mask_mandate_intervention_analysis.ipynb'\n",
       "4. 'state and county fips.csv'\n",
       "5. 'testing_count_data.csv'\n",
       "\n",
       "\n"
      ],
      "text/plain": [
       "[1] \"county_names_and_abbrevs.csv\"            \n",
       "[2] \"kansas_covid_mandate_Data.csv\"           \n",
       "[3] \"mask_mandate_intervention_analysis.ipynb\"\n",
       "[4] \"state and county fips.csv\"               \n",
       "[5] \"testing_count_data.csv\"                  "
      ]
     },
     "metadata": {},
     "output_type": "display_data"
    }
   ],
   "source": [
    "list.files(\"./\")"
   ]
  },
  {
   "cell_type": "code",
   "execution_count": 4,
   "metadata": {},
   "outputs": [
    {
     "name": "stderr",
     "output_type": "stream",
     "text": [
      "Loading required package: iterators\n",
      "\n",
      "Loading required package: parallel\n",
      "\n"
     ]
    }
   ],
   "source": [
    "source('../../causal_inference_methods_code_corrupted.R')"
   ]
  },
  {
   "cell_type": "code",
   "execution_count": 5,
   "metadata": {},
   "outputs": [],
   "source": [
    "countyCovidData <- read.csv(\"/home/josh/GitHub/covid-19-data/us-counties.csv\",\n",
    "                           stringsAsFactors=F)\n",
    "\n",
    "countyCovidData$fips <- as.character(countyCovidData$fips)\n",
    "\n",
    "mandateData <- read.csv(\"kansas_covid_mandate_Data.csv\", stringsAsFactors = F)\n",
    "\n",
    "stateAndFips <- read.csv('state and county fips.csv', stringsAsFactors=FALSE)\n",
    "\n",
    "stateAndFips$fips <- as.character(stateAndFips$fips)\n",
    "\n",
    "\n",
    "countyCovidData <- countyCovidData %>% mutate(date = ymd(date))\n",
    "\n",
    "countyCovidData <- countyCovidData %>% mutate(week = week(date))\n",
    "\n",
    "countyCovidData <- countyCovidData %>% mutate(county=tolower(county))\n",
    "\n",
    "\n",
    "mandateData <- mandateData %>% mutate(implementation_date =\n",
    "                                      ymd(implementation_date))\n",
    "\n",
    "\n",
    "mandateData <- mandateData %>% mutate(implementation_week=\n",
    "                                      week(implementation_date))\n",
    "\n",
    "mandateData <- mandateData %>% mutate(county=str_trim(tolower(county)))\n"
   ]
  },
  {
   "cell_type": "code",
   "execution_count": 6,
   "metadata": {},
   "outputs": [],
   "source": [
    "kansasDataOnly <- countyCovidData %>% filter(state=='Kansas')\n",
    "\n",
    "kansasDataOnly <- kansasDataOnly %>% filter(date >= ymd('2020-05-01') & \n",
    "                                            date <= ymd('2020-7-30')) \n",
    "\n",
    "#kansasDataOnly <- kansasDataOnly %>% filter(date >= ymd('2020-06-01') & \n",
    "#                                            date <= ymd('2020-08-23')) "
   ]
  },
  {
   "cell_type": "code",
   "execution_count": 7,
   "metadata": {},
   "outputs": [],
   "source": [
    "kansasDataOnly <- as.data.frame(kansasDataOnly %>% arrange(county, date) %>% group_by(county) %>% mutate(smooth_cases = rollmean(cases, 7, na.pad = TRUE)) %>% ungroup())"
   ]
  },
  {
   "cell_type": "code",
   "execution_count": 8,
   "metadata": {},
   "outputs": [],
   "source": [
    "\n",
    "phaseNumberDf <- cbind(\n",
    "    kansasDataOnly$date < unique(mandateData$implementation_date)[1],\n",
    " (kansasDataOnly$date >= unique(mandateData$implementation_date)[1]) &\n",
    "  (kansasDataOnly$date < unique(mandateData$implementation_date)[2]),\n",
    " (kansasDataOnly$date >= unique(mandateData$implementation_date)[2]) &\n",
    "  (kansasDataOnly$date < unique(mandateData$implementation_date)[3]),\n",
    " (kansasDataOnly$date >= unique(mandateData$implementation_date)[3]))\n",
    "\n",
    "kansasPhaseNumbers <- apply(phaseNumberDf, MARGIN=1, FUN = which)-1"
   ]
  },
  {
   "cell_type": "code",
   "execution_count": 9,
   "metadata": {},
   "outputs": [],
   "source": [
    "kansasDataOnly <- kansasDataOnly %>% mutate(phase_number = kansasPhaseNumbers)"
   ]
  },
  {
   "cell_type": "code",
   "execution_count": 10,
   "metadata": {},
   "outputs": [
    {
     "name": "stderr",
     "output_type": "stream",
     "text": [
      "Joining, by = c(\"county\", \"phase_number\")\n",
      "\n"
     ]
    }
   ],
   "source": [
    "kansasDataWithMandates <- kansasDataOnly %>% left_join(mandateData)\n",
    "\n",
    "kansasDataWithMandates <- kansasDataWithMandates[, \n",
    "    !(names(kansasDataWithMandates) %in% c('implementation_date', \n",
    "                                           'implementation_week'))]"
   ]
  },
  {
   "cell_type": "code",
   "execution_count": null,
   "metadata": {},
   "outputs": [],
   "source": []
  },
  {
   "cell_type": "code",
   "execution_count": 11,
   "metadata": {},
   "outputs": [],
   "source": [
    "kansasDataWithMandates <- kansasDataWithMandates[!apply(kansasDataWithMandates, MARGIN=1, FUN = function(x) any(is.na(x))), ]"
   ]
  },
  {
   "cell_type": "code",
   "execution_count": 12,
   "metadata": {},
   "outputs": [],
   "source": [
    "censusData<- (stateAndFips %>% inner_join(demographics, by=c(\"fips\"=\"county_fips\")) \n",
    "%>% inner_join(life, by=c(\"fips\"=\"county_fips\", \"year\")) %>% inner_join(income, by=c(\"fips\"=\"county_fips\", \"year\")))"
   ]
  },
  {
   "cell_type": "code",
   "execution_count": 13,
   "metadata": {},
   "outputs": [],
   "source": [
    "mostRecentCensusData <- censusData %>% filter(year==2014 & state=='KS')"
   ]
  },
  {
   "cell_type": "code",
   "execution_count": 14,
   "metadata": {},
   "outputs": [],
   "source": [
    "kansasDataWithMandatesAndCovs <-  kansasDataWithMandates %>% inner_join(mostRecentCensusData, by='fips')"
   ]
  },
  {
   "cell_type": "code",
   "execution_count": 15,
   "metadata": {},
   "outputs": [],
   "source": [
    "kansasDataWithMandatesAndCovs <- kansasDataWithMandatesAndCovs %>% mutate(cases_per_100000 = 100000*smooth_cases/population)"
   ]
  },
  {
   "cell_type": "code",
   "execution_count": 16,
   "metadata": {},
   "outputs": [],
   "source": [
    "scoreModel <- glm(mask_restriction ~ white+life_expect+income_hh+school_mandate_pass+gathering_size_restriction+other_restriction, \n",
    "                  data=kansasDataWithMandatesAndCovs, family=binomial())\n",
    "\n",
    "kansasDataWithMandatesAndCovs$prob_adopt <- scoreModel$fitted.values\n"
   ]
  },
  {
   "cell_type": "code",
   "execution_count": 17,
   "metadata": {},
   "outputs": [
    {
     "data": {
      "text/plain": [
       "\n",
       "Call:\n",
       "glm(formula = mask_restriction ~ white + life_expect + income_hh + \n",
       "    school_mandate_pass + gathering_size_restriction + other_restriction, \n",
       "    family = binomial(), data = kansasDataWithMandatesAndCovs)\n",
       "\n",
       "Deviance Residuals: \n",
       "    Min       1Q   Median       3Q      Max  \n",
       "-0.7502  -0.3776  -0.3378  -0.3102   2.8203  \n",
       "\n",
       "Coefficients: (1 not defined because of singularities)\n",
       "                             Estimate Std. Error z value Pr(>|z|)    \n",
       "(Intercept)                 9.540e+00  3.985e+00   2.394  0.01667 *  \n",
       "white                       8.355e-01  5.096e-01   1.640  0.10110    \n",
       "life_expect                -1.528e-01  5.485e-02  -2.787  0.00533 ** \n",
       "income_hh                  -2.219e-05  1.039e-05  -2.136  0.03270 *  \n",
       "school_mandate_pass                NA         NA      NA       NA    \n",
       "gathering_size_restriction  2.268e-01  2.526e-01   0.898  0.36918    \n",
       "other_restriction           1.096e+00  2.643e-01   4.149 3.34e-05 ***\n",
       "---\n",
       "Signif. codes:  0 ‘***’ 0.001 ‘**’ 0.01 ‘*’ 0.05 ‘.’ 0.1 ‘ ’ 1\n",
       "\n",
       "(Dispersion parameter for binomial family taken to be 1)\n",
       "\n",
       "    Null deviance: 2161.6  on 4066  degrees of freedom\n",
       "Residual deviance: 2058.6  on 4061  degrees of freedom\n",
       "AIC: 2070.6\n",
       "\n",
       "Number of Fisher Scoring iterations: 5\n"
      ]
     },
     "metadata": {},
     "output_type": "display_data"
    }
   ],
   "source": [
    "summary(scoreModel)"
   ]
  },
  {
   "cell_type": "code",
   "execution_count": 18,
   "metadata": {},
   "outputs": [],
   "source": [
    "Y <- variableExpander(kansasDataWithMandatesAndCovs[, c(\"county\", \"date\", \"cases_per_100000\")] ,unitKey='county', timeKey='date')\n",
    "\n",
    "\n",
    "badRows <- (rowSums(is.na(Y))) > 2\n",
    "#Y[is.na(Y)] <- 0\n",
    "\n",
    "Y <- Y[!badRows,]\n",
    "Y[is.na(Y)] <- 0\n",
    "\n",
    "Y <- Y+array(rnorm(prod(dim(Y))), dim=dim(Y))\n",
    "\n",
    "D <- variableExpander(kansasDataWithMandatesAndCovs[, c(\"county\", \"date\", \"mask_restriction\")],unitKey='county', timeKey='date')\n",
    "#D[is.na(D)] <- 0\n",
    "\n",
    "D <- D[!badRows,]\n",
    "D[is.na(D)] <- 0\n",
    "\n",
    "bigP <- variableExpander(kansasDataWithMandatesAndCovs[, c(\"county\", \"date\", \"prob_adopt\")],unitKey='county', timeKey='date')\n",
    "#bigP[is.na(bigP)] <- 0\n",
    "\n",
    "bigP <- bigP[!badRows,]\n",
    "bigP[is.na(bigP)] <- 0\n",
    "\n",
    "W <- propensity.score.to.weight(bigP, D)"
   ]
  },
  {
   "cell_type": "code",
   "execution_count": 19,
   "metadata": {},
   "outputs": [],
   "source": [
    "desired_clusters <- 30\n",
    "\n",
    "max_available_clusters <- detectCores()\n",
    "\n",
    "cl <- makeCluster(min(c(max_available_clusters, desired_clusters))-3)\n",
    "\n",
    "registerDoParallel(cl)"
   ]
  },
  {
   "cell_type": "code",
   "execution_count": 20,
   "metadata": {},
   "outputs": [],
   "source": [
    "covid_MCNNMEstimate <- matrix_completion_causal(Y=Y, W=D, num_iter=1000, K=4, \n",
    "                                        lambda_grid=c(10^seq(-4,2,1), seq(2,5,1)),\n",
    "                                        tolerance=1e-04)\n",
    "\n",
    "completedCovidInfo <- completion_with_rank_estimation_validate_mu(\n",
    "                                  Y=Y, W=D , weight_matrix=W, \n",
    "                                  initial_rank=100,\n",
    "                                  tolerance=1e-04, \n",
    "                                  validation_max_iter=5000,\n",
    "                                  min_iter=100,\n",
    "                                  max_iter=10000,\n",
    "                                  mu_grid=c(0, .01, .1),\n",
    "                                  K=5)\n",
    "\n",
    "        \n",
    "covid_factorModelEstimate <- completion_factor_model(Y=Y, W=D, propScoreMat = bigP ,\n",
    "                                                   numFactors=rankMatrix(covid_MCNNMEstimate$L_hat)[1])\n",
    "\n",
    "\n",
    "covid_weightedSoftImputeEstimate <- weightedSoftImpute_validate_lambda(Y=Y, W=D, \n",
    "                                                                     weight_matrix=W, num_iter=1000, K=5, \n",
    "                                                             lambda_grid=seq(0, 2000, 100), tolerance=1e-03)\n",
    "\n",
    "\n",
    "\n",
    "covid_factorModelEstimate <- completion_factor_model(Y=Y, W=D, propScoreMat = bigP ,\n",
    "                                                   numFactors=rankMatrix(covid_MCNNMEstimate$L_hat)[1])\n",
    "\n",
    "        "
   ]
  },
  {
   "cell_type": "code",
   "execution_count": 29,
   "metadata": {},
   "outputs": [
    {
     "data": {
      "image/png": "[encoded data removed]",
      "text/plain": [
       "plot without title"
      ]
     },
     "metadata": {
      "image/png": {
       "height": 420,
       "width": 420
      },
      "text/plain": {
       "height": 420,
       "width": 420
      }
     },
     "output_type": "display_data"
    }
   ],
   "source": [
    "plot(treat.estimator(Y, completedCovidInfo$L_hat, D)[1:21])"
   ]
  },
  {
   "cell_type": "code",
   "execution_count": 27,
   "metadata": {},
   "outputs": [
    {
     "data": {
      "image/png": "[encoded data removed]",
      "text/plain": [
       "plot without title"
      ]
     },
     "metadata": {
      "image/png": {
       "height": 420,
       "width": 420
      },
      "text/plain": {
       "height": 420,
       "width": 420
      }
     },
     "output_type": "display_data"
    }
   ],
   "source": [
    "plot(Y['atchison', ], ylim=c(0,5))\n",
    "lines(covid_weightedSoftImputeEstimate$L_hat[1,])"
   ]
  },
  {
   "cell_type": "code",
   "execution_count": 405,
   "metadata": {},
   "outputs": [],
   "source": [
    "stopCluster(cl)"
   ]
  },
  {
   "cell_type": "code",
   "execution_count": null,
   "metadata": {},
   "outputs": [],
   "source": []
  },
  {
   "cell_type": "code",
   "execution_count": 382,
   "metadata": {},
   "outputs": [],
   "source": [
    "weeklyCaseData <- kansasDataOnly %>% group_by(county, week, fips) %>% \n",
    "summarize(cases = sum(cases))"
   ]
  }
 ],
 "metadata": {
  "kernelspec": {
   "display_name": "R",
   "language": "R",
   "name": "ir"
  },
  "language_info": {
   "codemirror_mode": "r",
   "file_extension": ".r",
   "mimetype": "text/x-r-source",
   "name": "R",
   "pygments_lexer": "r",
   "version": "3.6.3"
  }
 },
 "nbformat": 4,
 "nbformat_minor": 4
}
