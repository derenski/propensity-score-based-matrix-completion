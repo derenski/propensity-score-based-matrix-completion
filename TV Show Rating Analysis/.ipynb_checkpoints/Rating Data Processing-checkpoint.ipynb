{
 "cells": [
  {
   "cell_type": "code",
   "execution_count": 1,
   "metadata": {},
   "outputs": [],
   "source": [
    "import pandas as pd\n",
    "import numpy as np\n",
    "import os\n",
    "import regex as re\n",
    "from scipy.signal import savgol_filter"
   ]
  },
  {
   "cell_type": "code",
   "execution_count": 2,
   "metadata": {},
   "outputs": [],
   "source": [
    "from statsmodels.nonparametric.smoothers_lowess import lowess"
   ]
  },
  {
   "cell_type": "code",
   "execution_count": 3,
   "metadata": {},
   "outputs": [],
   "source": [
    "def televisionSeriesCondenser(tvSeries, numberOfEps):\n",
    "    \n",
    "    neededQuantiles = np.linspace(1, numberOfEps, numberOfEps)/numberOfEps\n",
    "    \n",
    "    episodesChosen = np.floor(\n",
    "        np.quantile(tvSeries['Episode Number'], neededQuantiles))\n",
    "    \n",
    "    condensedShow = tvSeries.loc[np.isin(tvSeries['Episode Number'],\n",
    "                                           episodesChosen)  , :]\n",
    "    \n",
    "    return(condensedShow)"
   ]
  },
  {
   "cell_type": "code",
   "execution_count": 4,
   "metadata": {},
   "outputs": [
    {
     "data": {
      "text/plain": [
       "['name_basics.tsv',\n",
       " 'title_ratings.tsv',\n",
       " 'title_crew.tsv',\n",
       " 'title_principals.tsv',\n",
       " 'title_akas.tsv',\n",
       " 'title_episode.tsv',\n",
       " 'title_basics.tsv']"
      ]
     },
     "execution_count": 4,
     "metadata": {},
     "output_type": "execute_result"
    }
   ],
   "source": [
    "os.listdir(\"./IMDb Data Dump/Unpacked Data\")"
   ]
  },
  {
   "cell_type": "code",
   "execution_count": 5,
   "metadata": {},
   "outputs": [],
   "source": [
    "dataLocation = \"./IMDb Data Dump/Unpacked Data\""
   ]
  },
  {
   "cell_type": "code",
   "execution_count": 6,
   "metadata": {},
   "outputs": [],
   "source": [
    "ratingData = pd.read_csv(dataLocation+'/'+'title_ratings.tsv', sep='\\t',\n",
    "                        low_memory=False)\n",
    "\n",
    "ratingData = ratingData.replace('\\\\N', np.nan)\n",
    "\n",
    "episodeData = pd.read_csv(dataLocation+'/'+'title_episode.tsv', sep='\\t',\n",
    "                         low_memory=False)\n",
    "\n",
    "episodeData = episodeData.replace('\\\\N', np.nan)\n",
    "\n",
    "episodeData['seasonNumber'] = episodeData['seasonNumber'].astype('float64')\n",
    "\n",
    "episodeData['episodeNumber'] = episodeData['episodeNumber'].astype('float64')\n",
    "\n",
    "titleData = pd.read_csv(dataLocation+'/'+'title_basics.tsv', sep='\\t',\n",
    "                       low_memory=False)"
   ]
  },
  {
   "cell_type": "code",
   "execution_count": 7,
   "metadata": {},
   "outputs": [],
   "source": [
    "def wordFinder(potentialWord, theWord):\n",
    "    \n",
    "    try: \n",
    "        ## For shows that are only comedies\n",
    "        #theTeller = re.search(potentialWord, theWord)\n",
    "        \n",
    "        # return(not pd.isnull(theTeller))\n",
    "        \n",
    "        ### For shows that are comedies (but also something else)\n",
    "        \n",
    "        theTeller = potentialWord.find(theWord)+1\n",
    "        \n",
    "        return([False, True][theTeller])\n",
    "    \n",
    "    except: \n",
    "        \n",
    "        return(False)\n",
    "        \n",
    "        \n",
    "    \n",
    "    "
   ]
  },
  {
   "cell_type": "code",
   "execution_count": 8,
   "metadata": {},
   "outputs": [],
   "source": [
    "theComedies = titleData['genres'].apply(lambda x: wordFinder(x, \"Comedy\"))\n"
   ]
  },
  {
   "cell_type": "code",
   "execution_count": 9,
   "metadata": {},
   "outputs": [],
   "source": [
    "titleData = titleData.loc[theComedies, :]"
   ]
  },
  {
   "cell_type": "code",
   "execution_count": 10,
   "metadata": {},
   "outputs": [],
   "source": [
    "desiredSeries = (episodeData['parentTconst'].value_counts() >= 51).to_frame()"
   ]
  },
  {
   "cell_type": "code",
   "execution_count": 11,
   "metadata": {},
   "outputs": [],
   "source": [
    "desiredSeries.columns = ['keep_series']\n"
   ]
  },
  {
   "cell_type": "code",
   "execution_count": 12,
   "metadata": {},
   "outputs": [],
   "source": [
    "merged = pd.merge(desiredSeries, episodeData, left_index=True, right_on='parentTconst',\n",
    "                 how='inner')"
   ]
  },
  {
   "cell_type": "code",
   "execution_count": 13,
   "metadata": {},
   "outputs": [],
   "source": [
    "wantedSeriesEpisodes = merged.loc[merged['keep_series'], :]"
   ]
  },
  {
   "cell_type": "code",
   "execution_count": 14,
   "metadata": {},
   "outputs": [],
   "source": [
    "episodeWithSeriesTitle = pd.merge(wantedSeriesEpisodes,\n",
    "                                  titleData[['tconst', 'primaryTitle', 'originalTitle']],\n",
    "                                 left_on='parentTconst', right_on='tconst')"
   ]
  },
  {
   "cell_type": "code",
   "execution_count": 15,
   "metadata": {},
   "outputs": [],
   "source": [
    "episodeWithSeriesTitle = episodeWithSeriesTitle.rename({\"primaryTitle\": \"seriesPrimaryTitle\",\n",
    "                              \"originalTitle\": \"seriesOriginalTitle\",\n",
    "                              'tconst_x': \"tconst\"},\n",
    "                              axis=1)\n",
    "\n",
    "episodeWithSeriesTitle.drop('tconst_y', axis=1, inplace=True)\n",
    "\n",
    "\n",
    "episodeWithAllTitles = pd.merge(episodeWithSeriesTitle, titleData,\n",
    "                                 left_on='tconst', right_on='tconst')\n",
    "\n",
    "\n",
    "episodeWithAllTitles = episodeWithAllTitles.rename({\"primaryTitle\": \"episodePrimaryTitle\",\n",
    "                              \"originalTitle\": \"episodeOriginalTitle\",\n",
    "                              'tconst_x': \"tconst\"},\n",
    "                              axis=1)"
   ]
  },
  {
   "cell_type": "code",
   "execution_count": 16,
   "metadata": {},
   "outputs": [],
   "source": [
    "def savitzkyGolaySmoother(completeShowData):\n",
    "    \n",
    "    meanEpisodesPerSeason = np.max([5, int(np.floor(completeShowData['seasonNumber'].value_counts().mean()))])\n",
    "    \n",
    "    if (meanEpisodesPerSeason >=completeShowData.shape[0]):\n",
    "        \n",
    "        meanEpisodesPerSeason = int(np.floor(completeShowData.shape[0]/5))\n",
    "    \n",
    "    if (meanEpisodesPerSeason % 2 == 0):\n",
    "        \n",
    "        meanEpisodesPerSeason = meanEpisodesPerSeason+1\n",
    "        \n",
    "    smoothed = savgol_filter(np.array(completeShowData['averageRating']), meanEpisodesPerSeason, 3)\n",
    "    \n",
    "    return(smoothed)\n",
    "    \n",
    "    "
   ]
  },
  {
   "cell_type": "code",
   "execution_count": 17,
   "metadata": {},
   "outputs": [],
   "source": [
    "def lowessSmoother(completeShowData): ### Using .1 lead to good performance\n",
    "    \n",
    "    completeShowData=completeShowData.reset_index(drop=True)\n",
    "\n",
    "    smoothed = lowess(np.array(completeShowData['averageRating']), np.array(completeShowData.index), frac=.075, is_sorted=True)\n",
    "    \n",
    "    return(smoothed[:,1])"
   ]
  },
  {
   "cell_type": "code",
   "execution_count": 18,
   "metadata": {},
   "outputs": [],
   "source": [
    "finalEpisodeData = episodeWithAllTitles.merge(ratingData, how='inner')\n",
    "\n",
    "finalEpisodeData = finalEpisodeData.dropna()"
   ]
  },
  {
   "cell_type": "code",
   "execution_count": 19,
   "metadata": {},
   "outputs": [],
   "source": [
    "desiredSeriesFinal = (finalEpisodeData['parentTconst'].value_counts() >= 51).to_frame()\n",
    "desiredSeriesFinal.columns = ['keep_series_verified']\n",
    "\n",
    "finalEpisodeData = pd.merge(desiredSeriesFinal, finalEpisodeData, \n",
    "                            left_index=True, right_on='parentTconst',\n",
    "                 how='inner')"
   ]
  },
  {
   "cell_type": "code",
   "execution_count": 20,
   "metadata": {},
   "outputs": [],
   "source": [
    "finalEpisodeData = finalEpisodeData.loc[\n",
    "    finalEpisodeData['keep_series_verified']==True, :].reset_index(drop=True)"
   ]
  },
  {
   "cell_type": "code",
   "execution_count": 21,
   "metadata": {},
   "outputs": [],
   "source": [
    "finalEpisodeData = finalEpisodeData.sort_values(by = [\"parentTconst\", \n",
    "        'seasonNumber', 'episodeNumber'],\n",
    "    ascending=[True, True, True])[['tconst', \"parentTconst\", \"seriesOriginalTitle\",\n",
    "                                           'seasonNumber', 'episodeNumber',\n",
    "                                          'averageRating']].reset_index(drop=True)"
   ]
  },
  {
   "cell_type": "code",
   "execution_count": 22,
   "metadata": {},
   "outputs": [],
   "source": [
    "### CHOOSE SMOOTHER HERE\n",
    "smoothedRatings = finalEpisodeData.groupby('parentTconst').apply(lambda x: lowessSmoother(x))\n",
    "\n",
    "smoothedRatings = smoothedRatings.explode().to_frame(name='smoothedRating')"
   ]
  },
  {
   "cell_type": "code",
   "execution_count": 23,
   "metadata": {},
   "outputs": [],
   "source": [
    "finalEpisodeData['smoothedRating'] = np.array(smoothedRatings['smoothedRating'])"
   ]
  },
  {
   "cell_type": "code",
   "execution_count": 24,
   "metadata": {},
   "outputs": [],
   "source": [
    "seriesLengths = finalEpisodeData.groupby(['parentTconst']).apply(\n",
    "    lambda x: np.array(list(range(0, len(x))))+1)"
   ]
  },
  {
   "cell_type": "code",
   "execution_count": 25,
   "metadata": {},
   "outputs": [],
   "source": [
    "finalEpisodeData['seriesEpisodeNumber'] = np.array(seriesLengths.apply(pd.Series)\\\n",
    ".stack().reset_index(drop=True))"
   ]
  },
  {
   "cell_type": "code",
   "execution_count": null,
   "metadata": {},
   "outputs": [],
   "source": []
  },
  {
   "cell_type": "code",
   "execution_count": 26,
   "metadata": {},
   "outputs": [],
   "source": [
    "finalEpisodeDataCorrectSchema = finalEpisodeData.rename({\"episodeNumber\": \"Episode Number\",\n",
    "                        \"seasonNumber\": \"Season\", \"episodeNumber\": \"Episode\",\n",
    "                        \"averageRating\": \"Rating\",\n",
    "                        \"seriesOriginalTitle\": \"Title\",\n",
    "                        \"seriesEpisodeNumber\": \"Episode Number\",\n",
    "                        'parentTconst':\"Code\"}, axis=1)"
   ]
  },
  {
   "cell_type": "code",
   "execution_count": 27,
   "metadata": {},
   "outputs": [],
   "source": [
    "finalEpisodeDataCorrectSchema.drop('tconst', axis=1, inplace=True)"
   ]
  },
  {
   "cell_type": "code",
   "execution_count": 28,
   "metadata": {},
   "outputs": [],
   "source": [
    "finalEpisodeCount = finalEpisodeDataCorrectSchema['Code'].value_counts().to_frame()\n",
    "\n",
    "finalEpisodeCount.columns=['Number of Episodes']"
   ]
  },
  {
   "cell_type": "code",
   "execution_count": 29,
   "metadata": {},
   "outputs": [],
   "source": [
    "finalEpisodeDataCorrectSchema = finalEpisodeDataCorrectSchema\\\n",
    ".join(finalEpisodeCount, on='Code')"
   ]
  },
  {
   "cell_type": "code",
   "execution_count": 30,
   "metadata": {},
   "outputs": [],
   "source": [
    "finalEpisodeDataCorrectSchema['Prop Through Series'] = (\n",
    "    finalEpisodeDataCorrectSchema['Episode Number']/\n",
    "        finalEpisodeDataCorrectSchema['Number of Episodes'])"
   ]
  },
  {
   "cell_type": "code",
   "execution_count": 31,
   "metadata": {},
   "outputs": [],
   "source": [
    "americanOffice = finalEpisodeDataCorrectSchema.loc[\n",
    "    finalEpisodeDataCorrectSchema['Code']=='tt0386676', :]\n",
    "\n",
    "condensedOffice = televisionSeriesCondenser(tvSeries=americanOffice, numberOfEps=50)"
   ]
  },
  {
   "cell_type": "code",
   "execution_count": 32,
   "metadata": {},
   "outputs": [],
   "source": [
    "condensedShows = finalEpisodeDataCorrectSchema.groupby('Code').apply(\n",
    "    lambda x: televisionSeriesCondenser(x, 51))\n",
    "\n",
    "condensedShows = condensedShows.reset_index(level=0, drop=True)"
   ]
  },
  {
   "cell_type": "code",
   "execution_count": 33,
   "metadata": {},
   "outputs": [],
   "source": [
    "onlyFirstFifty = condensedShows.groupby('Code').head(50).copy()"
   ]
  },
  {
   "cell_type": "code",
   "execution_count": 34,
   "metadata": {},
   "outputs": [],
   "source": [
    "onlyFirstFifty.loc[:, 'main_character_left'] = (onlyFirstFifty['Title'] == 'The Office') & (\n",
    "    onlyFirstFifty['Episode Number'] >138)"
   ]
  },
  {
   "cell_type": "code",
   "execution_count": 35,
   "metadata": {},
   "outputs": [],
   "source": [
    "onlyFirstFifty['main_character_left'] = onlyFirstFifty['main_character_left'].astype('int32')"
   ]
  },
  {
   "cell_type": "code",
   "execution_count": 36,
   "metadata": {},
   "outputs": [],
   "source": [
    "onlyFirstFifty.to_csv('big tv rating data.csv', index=False)"
   ]
  },
  {
   "cell_type": "code",
   "execution_count": null,
   "metadata": {},
   "outputs": [],
   "source": []
  },
  {
   "cell_type": "code",
   "execution_count": null,
   "metadata": {},
   "outputs": [],
   "source": []
  },
  {
   "cell_type": "code",
   "execution_count": null,
   "metadata": {},
   "outputs": [],
   "source": []
  }
 ],
 "metadata": {
  "kernelspec": {
   "display_name": "Python 3",
   "language": "python",
   "name": "python3"
  },
  "language_info": {
   "codemirror_mode": {
    "name": "ipython",
    "version": 3
   },
   "file_extension": ".py",
   "mimetype": "text/x-python",
   "name": "python",
   "nbconvert_exporter": "python",
   "pygments_lexer": "ipython3",
   "version": "3.8.5"
  }
 },
 "nbformat": 4,
 "nbformat_minor": 4
}
